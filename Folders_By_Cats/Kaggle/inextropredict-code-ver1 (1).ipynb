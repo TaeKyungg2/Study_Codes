{
 "cells": [
  {
   "cell_type": "code",
   "execution_count": 55,
   "metadata": {
    "_cell_guid": "b1076dfc-b9ad-4769-8c92-a6c4dae69d19",
    "_uuid": "8f2839f25d086af736a60e9eeb907d3b93b6e0e5",
    "execution": {
     "iopub.execute_input": "2025-07-07T05:14:11.275383Z",
     "iopub.status.busy": "2025-07-07T05:14:11.275014Z",
     "iopub.status.idle": "2025-07-07T05:14:11.284219Z",
     "shell.execute_reply": "2025-07-07T05:14:11.282950Z",
     "shell.execute_reply.started": "2025-07-07T05:14:11.275358Z"
    },
    "trusted": true
   },
   "outputs": [
    {
     "name": "stdout",
     "output_type": "stream",
     "text": [
      "/kaggle/input/playground-series-s5e7/sample_submission.csv\n",
      "/kaggle/input/playground-series-s5e7/train.csv\n",
      "/kaggle/input/playground-series-s5e7/test.csv\n"
     ]
    }
   ],
   "source": [
    "# This Python 3 environment comes with many helpful analytics libraries installed\n",
    "# It is defined by the kaggle/python Docker image: https://github.com/kaggle/docker-python\n",
    "# For example, here's several helpful packages to load\n",
    "\n",
    "import numpy as np # linear algebra\n",
    "import pandas as pd # data processing, CSV file I/O (e.g. pd.read_csv)\n",
    "\n",
    "# Input data files are available in the read-only \"../input/\" directory\n",
    "# For example, running this (by clicking run or pressing Shift+Enter) will list all files under the input directory\n",
    "\n",
    "import os\n",
    "for dirname, _, filenames in os.walk('/kaggle/input'):\n",
    "    for filename in filenames:\n",
    "        print(os.path.join(dirname, filename))\n",
    "\n",
    "# You can write up to 20GB to the current directory (/kaggle/working/) that gets preserved as output when you create a version using \"Save & Run All\" \n",
    "# You can also write temporary files to /kaggle/temp/, but they won't be saved outside of the current session"
   ]
  },
  {
   "cell_type": "code",
   "execution_count": 56,
   "metadata": {
    "execution": {
     "iopub.execute_input": "2025-07-07T05:14:11.286055Z",
     "iopub.status.busy": "2025-07-07T05:14:11.285737Z",
     "iopub.status.idle": "2025-07-07T05:14:11.352171Z",
     "shell.execute_reply": "2025-07-07T05:14:11.351261Z",
     "shell.execute_reply.started": "2025-07-07T05:14:11.286027Z"
    },
    "trusted": true
   },
   "outputs": [],
   "source": [
    "import pandas as pd\n",
    "import numpy as np\n",
    "\n",
    "Ssub=pd.read_csv(\"/kaggle/input/playground-series-s5e7/sample_submission.csv\")\n",
    "test=pd.read_csv(\"/kaggle/input/playground-series-s5e7/train.csv\")\n",
    "train=pd.read_csv(\"/kaggle/input/playground-series-s5e7/test.csv\")"
   ]
  },
  {
   "cell_type": "code",
   "execution_count": 57,
   "metadata": {
    "execution": {
     "iopub.execute_input": "2025-07-07T05:14:11.353474Z",
     "iopub.status.busy": "2025-07-07T05:14:11.353146Z",
     "iopub.status.idle": "2025-07-07T05:14:11.369536Z",
     "shell.execute_reply": "2025-07-07T05:14:11.368537Z",
     "shell.execute_reply.started": "2025-07-07T05:14:11.353442Z"
    },
    "trusted": true
   },
   "outputs": [
    {
     "name": "stderr",
     "output_type": "stream",
     "text": [
      "/usr/local/lib/python3.11/dist-packages/pandas/io/formats/format.py:1458: RuntimeWarning: invalid value encountered in greater\n",
      "  has_large_values = (abs_vals > 1e6).any()\n",
      "/usr/local/lib/python3.11/dist-packages/pandas/io/formats/format.py:1459: RuntimeWarning: invalid value encountered in less\n",
      "  has_small_values = ((abs_vals < 10 ** (-self.digits)) & (abs_vals > 0)).any()\n",
      "/usr/local/lib/python3.11/dist-packages/pandas/io/formats/format.py:1459: RuntimeWarning: invalid value encountered in greater\n",
      "  has_small_values = ((abs_vals < 10 ** (-self.digits)) & (abs_vals > 0)).any()\n"
     ]
    },
    {
     "data": {
      "text/html": [
       "<div>\n",
       "<style scoped>\n",
       "    .dataframe tbody tr th:only-of-type {\n",
       "        vertical-align: middle;\n",
       "    }\n",
       "\n",
       "    .dataframe tbody tr th {\n",
       "        vertical-align: top;\n",
       "    }\n",
       "\n",
       "    .dataframe thead th {\n",
       "        text-align: right;\n",
       "    }\n",
       "</style>\n",
       "<table border=\"1\" class=\"dataframe\">\n",
       "  <thead>\n",
       "    <tr style=\"text-align: right;\">\n",
       "      <th></th>\n",
       "      <th>id</th>\n",
       "      <th>Time_spent_Alone</th>\n",
       "      <th>Stage_fear</th>\n",
       "      <th>Social_event_attendance</th>\n",
       "      <th>Going_outside</th>\n",
       "      <th>Drained_after_socializing</th>\n",
       "      <th>Friends_circle_size</th>\n",
       "      <th>Post_frequency</th>\n",
       "      <th>Personality</th>\n",
       "    </tr>\n",
       "  </thead>\n",
       "  <tbody>\n",
       "    <tr>\n",
       "      <th>0</th>\n",
       "      <td>0</td>\n",
       "      <td>0.0</td>\n",
       "      <td>No</td>\n",
       "      <td>6.0</td>\n",
       "      <td>4.0</td>\n",
       "      <td>No</td>\n",
       "      <td>15.0</td>\n",
       "      <td>5.0</td>\n",
       "      <td>Extrovert</td>\n",
       "    </tr>\n",
       "    <tr>\n",
       "      <th>1</th>\n",
       "      <td>1</td>\n",
       "      <td>1.0</td>\n",
       "      <td>No</td>\n",
       "      <td>7.0</td>\n",
       "      <td>3.0</td>\n",
       "      <td>No</td>\n",
       "      <td>10.0</td>\n",
       "      <td>8.0</td>\n",
       "      <td>Extrovert</td>\n",
       "    </tr>\n",
       "    <tr>\n",
       "      <th>2</th>\n",
       "      <td>2</td>\n",
       "      <td>6.0</td>\n",
       "      <td>Yes</td>\n",
       "      <td>1.0</td>\n",
       "      <td>0.0</td>\n",
       "      <td>NaN</td>\n",
       "      <td>3.0</td>\n",
       "      <td>0.0</td>\n",
       "      <td>Introvert</td>\n",
       "    </tr>\n",
       "    <tr>\n",
       "      <th>3</th>\n",
       "      <td>3</td>\n",
       "      <td>3.0</td>\n",
       "      <td>No</td>\n",
       "      <td>7.0</td>\n",
       "      <td>3.0</td>\n",
       "      <td>No</td>\n",
       "      <td>11.0</td>\n",
       "      <td>5.0</td>\n",
       "      <td>Extrovert</td>\n",
       "    </tr>\n",
       "    <tr>\n",
       "      <th>4</th>\n",
       "      <td>4</td>\n",
       "      <td>1.0</td>\n",
       "      <td>No</td>\n",
       "      <td>4.0</td>\n",
       "      <td>4.0</td>\n",
       "      <td>No</td>\n",
       "      <td>13.0</td>\n",
       "      <td>NaN</td>\n",
       "      <td>Extrovert</td>\n",
       "    </tr>\n",
       "  </tbody>\n",
       "</table>\n",
       "</div>"
      ],
      "text/plain": [
       "   id  Time_spent_Alone Stage_fear  Social_event_attendance  Going_outside  \\\n",
       "0   0               0.0         No                      6.0            4.0   \n",
       "1   1               1.0         No                      7.0            3.0   \n",
       "2   2               6.0        Yes                      1.0            0.0   \n",
       "3   3               3.0         No                      7.0            3.0   \n",
       "4   4               1.0         No                      4.0            4.0   \n",
       "\n",
       "  Drained_after_socializing  Friends_circle_size  Post_frequency Personality  \n",
       "0                        No                 15.0             5.0   Extrovert  \n",
       "1                        No                 10.0             8.0   Extrovert  \n",
       "2                       NaN                  3.0             0.0   Introvert  \n",
       "3                        No                 11.0             5.0   Extrovert  \n",
       "4                        No                 13.0             NaN   Extrovert  "
      ]
     },
     "execution_count": 57,
     "metadata": {},
     "output_type": "execute_result"
    }
   ],
   "source": [
    "test.head()"
   ]
  },
  {
   "cell_type": "code",
   "execution_count": 58,
   "metadata": {
    "execution": {
     "iopub.execute_input": "2025-07-07T05:14:11.371852Z",
     "iopub.status.busy": "2025-07-07T05:14:11.371512Z",
     "iopub.status.idle": "2025-07-07T05:14:11.392341Z",
     "shell.execute_reply": "2025-07-07T05:14:11.391444Z",
     "shell.execute_reply.started": "2025-07-07T05:14:11.371820Z"
    },
    "trusted": true
   },
   "outputs": [
    {
     "data": {
      "text/plain": [
       "0       False\n",
       "1        True\n",
       "2       False\n",
       "3       False\n",
       "4       False\n",
       "        ...  \n",
       "6170    False\n",
       "6171    False\n",
       "6172    False\n",
       "6173    False\n",
       "6174     True\n",
       "Name: Time_spent_Alone, Length: 6175, dtype: bool"
      ]
     },
     "execution_count": 58,
     "metadata": {},
     "output_type": "execute_result"
    }
   ],
   "source": [
    "train['Time_spent_Alone'].isnull()"
   ]
  },
  {
   "cell_type": "code",
   "execution_count": 59,
   "metadata": {
    "execution": {
     "iopub.execute_input": "2025-07-07T05:14:11.393549Z",
     "iopub.status.busy": "2025-07-07T05:14:11.393220Z",
     "iopub.status.idle": "2025-07-07T05:14:11.418140Z",
     "shell.execute_reply": "2025-07-07T05:14:11.417208Z",
     "shell.execute_reply.started": "2025-07-07T05:14:11.393496Z"
    },
    "trusted": true
   },
   "outputs": [
    {
     "name": "stdout",
     "output_type": "stream",
     "text": [
      "<class 'pandas.core.frame.DataFrame'>\n",
      "RangeIndex: 6175 entries, 0 to 6174\n",
      "Data columns (total 8 columns):\n",
      " #   Column                     Non-Null Count  Dtype  \n",
      "---  ------                     --------------  -----  \n",
      " 0   id                         6175 non-null   int64  \n",
      " 1   Time_spent_Alone           5750 non-null   float64\n",
      " 2   Stage_fear                 5577 non-null   object \n",
      " 3   Social_event_attendance    5778 non-null   float64\n",
      " 4   Going_outside              5709 non-null   float64\n",
      " 5   Drained_after_socializing  5743 non-null   object \n",
      " 6   Friends_circle_size        5825 non-null   float64\n",
      " 7   Post_frequency             5767 non-null   float64\n",
      "dtypes: float64(5), int64(1), object(2)\n",
      "memory usage: 386.1+ KB\n"
     ]
    }
   ],
   "source": [
    "train.info()"
   ]
  },
  {
   "cell_type": "code",
   "execution_count": 60,
   "metadata": {
    "execution": {
     "iopub.execute_input": "2025-07-07T05:14:11.419800Z",
     "iopub.status.busy": "2025-07-07T05:14:11.419468Z",
     "iopub.status.idle": "2025-07-07T05:14:11.445520Z",
     "shell.execute_reply": "2025-07-07T05:14:11.444347Z",
     "shell.execute_reply.started": "2025-07-07T05:14:11.419771Z"
    },
    "trusted": true
   },
   "outputs": [
    {
     "name": "stdout",
     "output_type": "stream",
     "text": [
      "<class 'pandas.core.frame.DataFrame'>\n",
      "RangeIndex: 6175 entries, 0 to 6174\n",
      "Data columns (total 8 columns):\n",
      " #   Column                     Non-Null Count  Dtype  \n",
      "---  ------                     --------------  -----  \n",
      " 0   id                         6175 non-null   int64  \n",
      " 1   Time_spent_Alone           6158 non-null   float64\n",
      " 2   Stage_fear                 5577 non-null   object \n",
      " 3   Social_event_attendance    5778 non-null   float64\n",
      " 4   Going_outside              5709 non-null   float64\n",
      " 5   Drained_after_socializing  5743 non-null   object \n",
      " 6   Friends_circle_size        5825 non-null   float64\n",
      " 7   Post_frequency             5767 non-null   float64\n",
      "dtypes: float64(5), int64(1), object(2)\n",
      "memory usage: 386.1+ KB\n"
     ]
    }
   ],
   "source": [
    "train.fillna({'Time_spent_Alone':11-train['Going_outside']},inplace=True)\n",
    "train.info()"
   ]
  },
  {
   "cell_type": "code",
   "execution_count": 61,
   "metadata": {
    "execution": {
     "iopub.execute_input": "2025-07-07T05:14:11.447741Z",
     "iopub.status.busy": "2025-07-07T05:14:11.447388Z",
     "iopub.status.idle": "2025-07-07T05:14:11.465666Z",
     "shell.execute_reply": "2025-07-07T05:14:11.464446Z",
     "shell.execute_reply.started": "2025-07-07T05:14:11.447711Z"
    },
    "trusted": true
   },
   "outputs": [
    {
     "name": "stdout",
     "output_type": "stream",
     "text": [
      "<class 'pandas.core.frame.DataFrame'>\n",
      "RangeIndex: 6175 entries, 0 to 6174\n",
      "Data columns (total 8 columns):\n",
      " #   Column                     Non-Null Count  Dtype  \n",
      "---  ------                     --------------  -----  \n",
      " 0   id                         6175 non-null   int64  \n",
      " 1   Time_spent_Alone           6158 non-null   float64\n",
      " 2   Stage_fear                 6175 non-null   object \n",
      " 3   Social_event_attendance    5778 non-null   float64\n",
      " 4   Going_outside              5709 non-null   float64\n",
      " 5   Drained_after_socializing  5743 non-null   object \n",
      " 6   Friends_circle_size        5825 non-null   float64\n",
      " 7   Post_frequency             5767 non-null   float64\n",
      "dtypes: float64(5), int64(1), object(2)\n",
      "memory usage: 386.1+ KB\n"
     ]
    },
    {
     "name": "stderr",
     "output_type": "stream",
     "text": [
      "/usr/local/lib/python3.11/dist-packages/pandas/core/computation/expressions.py:73: RuntimeWarning: invalid value encountered in less_equal\n",
      "  return op(a, b)\n"
     ]
    }
   ],
   "source": [
    "mask = train['Stage_fear'].isna()\n",
    "train.loc[mask, 'Stage_fear'] = np.where(\n",
    "    train.loc[mask, 'Social_event_attendance'] <= 5,\n",
    "    'Yes',\n",
    "    'No'\n",
    ")\n",
    "train.info()\n"
   ]
  },
  {
   "cell_type": "code",
   "execution_count": 62,
   "metadata": {
    "execution": {
     "iopub.execute_input": "2025-07-07T05:14:11.467258Z",
     "iopub.status.busy": "2025-07-07T05:14:11.466696Z",
     "iopub.status.idle": "2025-07-07T05:14:11.490765Z",
     "shell.execute_reply": "2025-07-07T05:14:11.489633Z",
     "shell.execute_reply.started": "2025-07-07T05:14:11.467217Z"
    },
    "trusted": true
   },
   "outputs": [
    {
     "name": "stdout",
     "output_type": "stream",
     "text": [
      "<class 'pandas.core.frame.DataFrame'>\n",
      "RangeIndex: 6175 entries, 0 to 6174\n",
      "Data columns (total 8 columns):\n",
      " #   Column                     Non-Null Count  Dtype  \n",
      "---  ------                     --------------  -----  \n",
      " 0   id                         6175 non-null   int64  \n",
      " 1   Time_spent_Alone           6158 non-null   float64\n",
      " 2   Stage_fear                 6175 non-null   object \n",
      " 3   Social_event_attendance    6175 non-null   float64\n",
      " 4   Going_outside              5709 non-null   float64\n",
      " 5   Drained_after_socializing  5743 non-null   object \n",
      " 6   Friends_circle_size        5825 non-null   float64\n",
      " 7   Post_frequency             5767 non-null   float64\n",
      "dtypes: float64(5), int64(1), object(2)\n",
      "memory usage: 386.1+ KB\n"
     ]
    }
   ],
   "source": [
    "mask=train['Social_event_attendance'].isna()\n",
    "train.loc[mask,'Social_event_attendance']=\\\n",
    "    11-train['Time_spent_Alone']\n",
    "train.info()"
   ]
  },
  {
   "cell_type": "code",
   "execution_count": 63,
   "metadata": {
    "execution": {
     "iopub.execute_input": "2025-07-07T05:14:11.494041Z",
     "iopub.status.busy": "2025-07-07T05:14:11.493707Z",
     "iopub.status.idle": "2025-07-07T05:14:11.504981Z",
     "shell.execute_reply": "2025-07-07T05:14:11.503947Z",
     "shell.execute_reply.started": "2025-07-07T05:14:11.494019Z"
    },
    "trusted": true
   },
   "outputs": [
    {
     "data": {
      "text/plain": [
       "count    6158.000000\n",
       "mean        3.363592\n",
       "std         3.071740\n",
       "min         0.000000\n",
       "25%         1.000000\n",
       "50%         3.000000\n",
       "75%         5.000000\n",
       "max        11.000000\n",
       "Name: Time_spent_Alone, dtype: float64"
      ]
     },
     "execution_count": 63,
     "metadata": {},
     "output_type": "execute_result"
    }
   ],
   "source": [
    "train['Time_spent_Alone'].describe()"
   ]
  },
  {
   "cell_type": "code",
   "execution_count": 64,
   "metadata": {
    "execution": {
     "iopub.execute_input": "2025-07-07T05:14:11.506170Z",
     "iopub.status.busy": "2025-07-07T05:14:11.505864Z",
     "iopub.status.idle": "2025-07-07T05:14:11.528623Z",
     "shell.execute_reply": "2025-07-07T05:14:11.527232Z",
     "shell.execute_reply.started": "2025-07-07T05:14:11.506142Z"
    },
    "trusted": true
   },
   "outputs": [
    {
     "data": {
      "text/plain": [
       "count    5709.000000\n",
       "mean        4.037835\n",
       "std         2.045207\n",
       "min         0.000000\n",
       "25%         3.000000\n",
       "50%         4.000000\n",
       "75%         6.000000\n",
       "max         7.000000\n",
       "Name: Going_outside, dtype: float64"
      ]
     },
     "execution_count": 64,
     "metadata": {},
     "output_type": "execute_result"
    }
   ],
   "source": [
    "train['Going_outside'].describe()"
   ]
  },
  {
   "cell_type": "code",
   "execution_count": 65,
   "metadata": {
    "execution": {
     "iopub.execute_input": "2025-07-07T05:14:11.529903Z",
     "iopub.status.busy": "2025-07-07T05:14:11.529603Z",
     "iopub.status.idle": "2025-07-07T05:14:11.552261Z",
     "shell.execute_reply": "2025-07-07T05:14:11.551032Z",
     "shell.execute_reply.started": "2025-07-07T05:14:11.529880Z"
    },
    "trusted": true
   },
   "outputs": [
    {
     "name": "stdout",
     "output_type": "stream",
     "text": [
      "<class 'pandas.core.frame.DataFrame'>\n",
      "RangeIndex: 6175 entries, 0 to 6174\n",
      "Data columns (total 8 columns):\n",
      " #   Column                     Non-Null Count  Dtype  \n",
      "---  ------                     --------------  -----  \n",
      " 0   id                         6175 non-null   int64  \n",
      " 1   Time_spent_Alone           6158 non-null   float64\n",
      " 2   Stage_fear                 6175 non-null   object \n",
      " 3   Social_event_attendance    6175 non-null   float64\n",
      " 4   Going_outside              6158 non-null   float64\n",
      " 5   Drained_after_socializing  5743 non-null   object \n",
      " 6   Friends_circle_size        5825 non-null   float64\n",
      " 7   Post_frequency             5767 non-null   float64\n",
      "dtypes: float64(5), int64(1), object(2)\n",
      "memory usage: 386.1+ KB\n"
     ]
    }
   ],
   "source": [
    "train.fillna({'Going_outside':11-train['Time_spent_Alone']},inplace=True)\n",
    "train.info()"
   ]
  },
  {
   "cell_type": "code",
   "execution_count": 66,
   "metadata": {
    "execution": {
     "iopub.execute_input": "2025-07-07T05:14:11.553474Z",
     "iopub.status.busy": "2025-07-07T05:14:11.553149Z",
     "iopub.status.idle": "2025-07-07T05:14:11.582825Z",
     "shell.execute_reply": "2025-07-07T05:14:11.581775Z",
     "shell.execute_reply.started": "2025-07-07T05:14:11.553447Z"
    },
    "trusted": true
   },
   "outputs": [
    {
     "name": "stdout",
     "output_type": "stream",
     "text": [
      "<class 'pandas.core.frame.DataFrame'>\n",
      "RangeIndex: 6175 entries, 0 to 6174\n",
      "Data columns (total 8 columns):\n",
      " #   Column                     Non-Null Count  Dtype  \n",
      "---  ------                     --------------  -----  \n",
      " 0   id                         6175 non-null   int64  \n",
      " 1   Time_spent_Alone           6158 non-null   float64\n",
      " 2   Stage_fear                 6175 non-null   object \n",
      " 3   Social_event_attendance    6175 non-null   float64\n",
      " 4   Going_outside              6158 non-null   float64\n",
      " 5   Drained_after_socializing  6175 non-null   object \n",
      " 6   Friends_circle_size        5825 non-null   float64\n",
      " 7   Post_frequency             5767 non-null   float64\n",
      "dtypes: float64(5), int64(1), object(2)\n",
      "memory usage: 386.1+ KB\n"
     ]
    },
    {
     "name": "stderr",
     "output_type": "stream",
     "text": [
      "/usr/local/lib/python3.11/dist-packages/pandas/core/computation/expressions.py:73: RuntimeWarning: invalid value encountered in less_equal\n",
      "  return op(a, b)\n"
     ]
    }
   ],
   "source": [
    "mask = train['Drained_after_socializing'].isna()\n",
    "train.loc[mask, 'Drained_after_socializing'] = np.where(\n",
    "    train.loc[mask, 'Friends_circle_size'] <= 4,\n",
    "    'Yes',\n",
    "    'No'\n",
    ")\n",
    "train.info()"
   ]
  },
  {
   "cell_type": "code",
   "execution_count": 67,
   "metadata": {
    "execution": {
     "iopub.execute_input": "2025-07-07T05:14:11.584207Z",
     "iopub.status.busy": "2025-07-07T05:14:11.583856Z",
     "iopub.status.idle": "2025-07-07T05:14:11.607287Z",
     "shell.execute_reply": "2025-07-07T05:14:11.606320Z",
     "shell.execute_reply.started": "2025-07-07T05:14:11.584167Z"
    },
    "trusted": true
   },
   "outputs": [
    {
     "name": "stdout",
     "output_type": "stream",
     "text": [
      "<class 'pandas.core.frame.DataFrame'>\n",
      "RangeIndex: 6175 entries, 0 to 6174\n",
      "Data columns (total 8 columns):\n",
      " #   Column                     Non-Null Count  Dtype  \n",
      "---  ------                     --------------  -----  \n",
      " 0   id                         6175 non-null   int64  \n",
      " 1   Time_spent_Alone           6158 non-null   float64\n",
      " 2   Stage_fear                 6175 non-null   object \n",
      " 3   Social_event_attendance    6175 non-null   float64\n",
      " 4   Going_outside              6158 non-null   float64\n",
      " 5   Drained_after_socializing  6175 non-null   object \n",
      " 6   Friends_circle_size        6175 non-null   float64\n",
      " 7   Post_frequency             5767 non-null   float64\n",
      "dtypes: float64(5), int64(1), object(2)\n",
      "memory usage: 386.1+ KB\n"
     ]
    }
   ],
   "source": [
    "train.fillna({'Friends_circle_size':train['Going_outside']*2},inplace=True)\n",
    "train.info()"
   ]
  },
  {
   "cell_type": "code",
   "execution_count": 68,
   "metadata": {
    "execution": {
     "iopub.execute_input": "2025-07-07T05:14:11.608542Z",
     "iopub.status.busy": "2025-07-07T05:14:11.608161Z",
     "iopub.status.idle": "2025-07-07T05:14:11.623718Z",
     "shell.execute_reply": "2025-07-07T05:14:11.622670Z",
     "shell.execute_reply.started": "2025-07-07T05:14:11.608512Z"
    },
    "trusted": true
   },
   "outputs": [
    {
     "name": "stdout",
     "output_type": "stream",
     "text": [
      "<class 'pandas.core.frame.DataFrame'>\n",
      "RangeIndex: 6175 entries, 0 to 6174\n",
      "Data columns (total 8 columns):\n",
      " #   Column                     Non-Null Count  Dtype  \n",
      "---  ------                     --------------  -----  \n",
      " 0   id                         6175 non-null   int64  \n",
      " 1   Time_spent_Alone           6158 non-null   float64\n",
      " 2   Stage_fear                 6175 non-null   object \n",
      " 3   Social_event_attendance    6175 non-null   float64\n",
      " 4   Going_outside              6158 non-null   float64\n",
      " 5   Drained_after_socializing  6175 non-null   object \n",
      " 6   Friends_circle_size        6175 non-null   float64\n",
      " 7   Post_frequency             6175 non-null   float64\n",
      "dtypes: float64(5), int64(1), object(2)\n",
      "memory usage: 386.1+ KB\n"
     ]
    }
   ],
   "source": [
    "train.fillna({'Post_frequency':train['Friends_circle_size']},inplace=True)\n",
    "train.info()"
   ]
  },
  {
   "cell_type": "code",
   "execution_count": 69,
   "metadata": {
    "execution": {
     "iopub.execute_input": "2025-07-07T05:14:11.624915Z",
     "iopub.status.busy": "2025-07-07T05:14:11.624600Z",
     "iopub.status.idle": "2025-07-07T05:14:11.638248Z",
     "shell.execute_reply": "2025-07-07T05:14:11.637410Z",
     "shell.execute_reply.started": "2025-07-07T05:14:11.624893Z"
    },
    "trusted": true
   },
   "outputs": [
    {
     "name": "stdout",
     "output_type": "stream",
     "text": [
      "<class 'pandas.core.frame.DataFrame'>\n",
      "RangeIndex: 6175 entries, 0 to 6174\n",
      "Data columns (total 8 columns):\n",
      " #   Column                     Non-Null Count  Dtype  \n",
      "---  ------                     --------------  -----  \n",
      " 0   id                         6175 non-null   int64  \n",
      " 1   Time_spent_Alone           6158 non-null   float64\n",
      " 2   Stage_fear                 6175 non-null   object \n",
      " 3   Social_event_attendance    6175 non-null   float64\n",
      " 4   Going_outside              6175 non-null   float64\n",
      " 5   Drained_after_socializing  6175 non-null   object \n",
      " 6   Friends_circle_size        6175 non-null   float64\n",
      " 7   Post_frequency             6175 non-null   float64\n",
      "dtypes: float64(5), int64(1), object(2)\n",
      "memory usage: 386.1+ KB\n"
     ]
    }
   ],
   "source": [
    "train.fillna({'Going_outside':train['Friends_circle_size']//2},inplace=True)\n",
    "train.info()"
   ]
  },
  {
   "cell_type": "code",
   "execution_count": 70,
   "metadata": {
    "execution": {
     "iopub.execute_input": "2025-07-07T05:14:11.639522Z",
     "iopub.status.busy": "2025-07-07T05:14:11.639199Z",
     "iopub.status.idle": "2025-07-07T05:14:11.656326Z",
     "shell.execute_reply": "2025-07-07T05:14:11.654780Z",
     "shell.execute_reply.started": "2025-07-07T05:14:11.639499Z"
    },
    "trusted": true
   },
   "outputs": [
    {
     "name": "stdout",
     "output_type": "stream",
     "text": [
      "<class 'pandas.core.frame.DataFrame'>\n",
      "RangeIndex: 6175 entries, 0 to 6174\n",
      "Data columns (total 8 columns):\n",
      " #   Column                     Non-Null Count  Dtype  \n",
      "---  ------                     --------------  -----  \n",
      " 0   id                         6175 non-null   int64  \n",
      " 1   Time_spent_Alone           6175 non-null   float64\n",
      " 2   Stage_fear                 6175 non-null   object \n",
      " 3   Social_event_attendance    6175 non-null   float64\n",
      " 4   Going_outside              6175 non-null   float64\n",
      " 5   Drained_after_socializing  6175 non-null   object \n",
      " 6   Friends_circle_size        6175 non-null   float64\n",
      " 7   Post_frequency             6175 non-null   float64\n",
      "dtypes: float64(5), int64(1), object(2)\n",
      "memory usage: 386.1+ KB\n"
     ]
    }
   ],
   "source": [
    "train.fillna({'Time_spent_Alone':11-train['Going_outside']},inplace=True)\n",
    "train.info()"
   ]
  },
  {
   "cell_type": "code",
   "execution_count": 71,
   "metadata": {
    "execution": {
     "iopub.execute_input": "2025-07-07T05:14:11.657569Z",
     "iopub.status.busy": "2025-07-07T05:14:11.657250Z",
     "iopub.status.idle": "2025-07-07T05:14:11.667518Z",
     "shell.execute_reply": "2025-07-07T05:14:11.666378Z",
     "shell.execute_reply.started": "2025-07-07T05:14:11.657548Z"
    },
    "trusted": true
   },
   "outputs": [],
   "source": [
    "train['Stage_fear']=train['Stage_fear'].map({'Yes':1,'No':0})"
   ]
  },
  {
   "cell_type": "code",
   "execution_count": 72,
   "metadata": {
    "execution": {
     "iopub.execute_input": "2025-07-07T05:14:11.668815Z",
     "iopub.status.busy": "2025-07-07T05:14:11.668522Z",
     "iopub.status.idle": "2025-07-07T05:14:11.696347Z",
     "shell.execute_reply": "2025-07-07T05:14:11.695355Z",
     "shell.execute_reply.started": "2025-07-07T05:14:11.668794Z"
    },
    "trusted": true
   },
   "outputs": [
    {
     "data": {
      "text/html": [
       "<div>\n",
       "<style scoped>\n",
       "    .dataframe tbody tr th:only-of-type {\n",
       "        vertical-align: middle;\n",
       "    }\n",
       "\n",
       "    .dataframe tbody tr th {\n",
       "        vertical-align: top;\n",
       "    }\n",
       "\n",
       "    .dataframe thead th {\n",
       "        text-align: right;\n",
       "    }\n",
       "</style>\n",
       "<table border=\"1\" class=\"dataframe\">\n",
       "  <thead>\n",
       "    <tr style=\"text-align: right;\">\n",
       "      <th></th>\n",
       "      <th>id</th>\n",
       "      <th>Time_spent_Alone</th>\n",
       "      <th>Stage_fear</th>\n",
       "      <th>Social_event_attendance</th>\n",
       "      <th>Going_outside</th>\n",
       "      <th>Drained_after_socializing</th>\n",
       "      <th>Friends_circle_size</th>\n",
       "      <th>Post_frequency</th>\n",
       "    </tr>\n",
       "  </thead>\n",
       "  <tbody>\n",
       "    <tr>\n",
       "      <th>0</th>\n",
       "      <td>18524</td>\n",
       "      <td>3.0</td>\n",
       "      <td>0</td>\n",
       "      <td>7.0</td>\n",
       "      <td>4.0</td>\n",
       "      <td>No</td>\n",
       "      <td>6.0</td>\n",
       "      <td>6.0</td>\n",
       "    </tr>\n",
       "    <tr>\n",
       "      <th>1</th>\n",
       "      <td>18525</td>\n",
       "      <td>11.0</td>\n",
       "      <td>1</td>\n",
       "      <td>0.0</td>\n",
       "      <td>0.0</td>\n",
       "      <td>Yes</td>\n",
       "      <td>5.0</td>\n",
       "      <td>1.0</td>\n",
       "    </tr>\n",
       "    <tr>\n",
       "      <th>2</th>\n",
       "      <td>18526</td>\n",
       "      <td>3.0</td>\n",
       "      <td>0</td>\n",
       "      <td>5.0</td>\n",
       "      <td>6.0</td>\n",
       "      <td>No</td>\n",
       "      <td>15.0</td>\n",
       "      <td>9.0</td>\n",
       "    </tr>\n",
       "    <tr>\n",
       "      <th>3</th>\n",
       "      <td>18527</td>\n",
       "      <td>3.0</td>\n",
       "      <td>0</td>\n",
       "      <td>4.0</td>\n",
       "      <td>4.0</td>\n",
       "      <td>No</td>\n",
       "      <td>5.0</td>\n",
       "      <td>6.0</td>\n",
       "    </tr>\n",
       "    <tr>\n",
       "      <th>4</th>\n",
       "      <td>18528</td>\n",
       "      <td>9.0</td>\n",
       "      <td>1</td>\n",
       "      <td>1.0</td>\n",
       "      <td>2.0</td>\n",
       "      <td>Yes</td>\n",
       "      <td>1.0</td>\n",
       "      <td>1.0</td>\n",
       "    </tr>\n",
       "  </tbody>\n",
       "</table>\n",
       "</div>"
      ],
      "text/plain": [
       "      id  Time_spent_Alone  Stage_fear  Social_event_attendance  \\\n",
       "0  18524               3.0           0                      7.0   \n",
       "1  18525              11.0           1                      0.0   \n",
       "2  18526               3.0           0                      5.0   \n",
       "3  18527               3.0           0                      4.0   \n",
       "4  18528               9.0           1                      1.0   \n",
       "\n",
       "   Going_outside Drained_after_socializing  Friends_circle_size  \\\n",
       "0            4.0                        No                  6.0   \n",
       "1            0.0                       Yes                  5.0   \n",
       "2            6.0                        No                 15.0   \n",
       "3            4.0                        No                  5.0   \n",
       "4            2.0                       Yes                  1.0   \n",
       "\n",
       "   Post_frequency  \n",
       "0             6.0  \n",
       "1             1.0  \n",
       "2             9.0  \n",
       "3             6.0  \n",
       "4             1.0  "
      ]
     },
     "execution_count": 72,
     "metadata": {},
     "output_type": "execute_result"
    }
   ],
   "source": [
    "train.head()"
   ]
  },
  {
   "cell_type": "code",
   "execution_count": 73,
   "metadata": {
    "execution": {
     "iopub.execute_input": "2025-07-07T05:14:11.697727Z",
     "iopub.status.busy": "2025-07-07T05:14:11.697402Z",
     "iopub.status.idle": "2025-07-07T05:14:11.718029Z",
     "shell.execute_reply": "2025-07-07T05:14:11.716911Z",
     "shell.execute_reply.started": "2025-07-07T05:14:11.697699Z"
    },
    "trusted": true
   },
   "outputs": [],
   "source": [
    "train['Drained_after_socializing']=train['Drained_after_socializing'].map({'Yes':1,'No':0})"
   ]
  },
  {
   "cell_type": "code",
   "execution_count": 74,
   "metadata": {
    "execution": {
     "iopub.execute_input": "2025-07-07T05:14:11.721514Z",
     "iopub.status.busy": "2025-07-07T05:14:11.721214Z",
     "iopub.status.idle": "2025-07-07T05:14:11.752378Z",
     "shell.execute_reply": "2025-07-07T05:14:11.750936Z",
     "shell.execute_reply.started": "2025-07-07T05:14:11.721491Z"
    },
    "trusted": true
   },
   "outputs": [
    {
     "data": {
      "text/html": [
       "<div>\n",
       "<style scoped>\n",
       "    .dataframe tbody tr th:only-of-type {\n",
       "        vertical-align: middle;\n",
       "    }\n",
       "\n",
       "    .dataframe tbody tr th {\n",
       "        vertical-align: top;\n",
       "    }\n",
       "\n",
       "    .dataframe thead th {\n",
       "        text-align: right;\n",
       "    }\n",
       "</style>\n",
       "<table border=\"1\" class=\"dataframe\">\n",
       "  <thead>\n",
       "    <tr style=\"text-align: right;\">\n",
       "      <th></th>\n",
       "      <th>id</th>\n",
       "      <th>Time_spent_Alone</th>\n",
       "      <th>Stage_fear</th>\n",
       "      <th>Social_event_attendance</th>\n",
       "      <th>Going_outside</th>\n",
       "      <th>Drained_after_socializing</th>\n",
       "      <th>Friends_circle_size</th>\n",
       "      <th>Post_frequency</th>\n",
       "    </tr>\n",
       "  </thead>\n",
       "  <tbody>\n",
       "    <tr>\n",
       "      <th>0</th>\n",
       "      <td>18524</td>\n",
       "      <td>3.0</td>\n",
       "      <td>0</td>\n",
       "      <td>7.0</td>\n",
       "      <td>4.0</td>\n",
       "      <td>0</td>\n",
       "      <td>6.0</td>\n",
       "      <td>6.0</td>\n",
       "    </tr>\n",
       "    <tr>\n",
       "      <th>1</th>\n",
       "      <td>18525</td>\n",
       "      <td>11.0</td>\n",
       "      <td>1</td>\n",
       "      <td>0.0</td>\n",
       "      <td>0.0</td>\n",
       "      <td>1</td>\n",
       "      <td>5.0</td>\n",
       "      <td>1.0</td>\n",
       "    </tr>\n",
       "    <tr>\n",
       "      <th>2</th>\n",
       "      <td>18526</td>\n",
       "      <td>3.0</td>\n",
       "      <td>0</td>\n",
       "      <td>5.0</td>\n",
       "      <td>6.0</td>\n",
       "      <td>0</td>\n",
       "      <td>15.0</td>\n",
       "      <td>9.0</td>\n",
       "    </tr>\n",
       "    <tr>\n",
       "      <th>3</th>\n",
       "      <td>18527</td>\n",
       "      <td>3.0</td>\n",
       "      <td>0</td>\n",
       "      <td>4.0</td>\n",
       "      <td>4.0</td>\n",
       "      <td>0</td>\n",
       "      <td>5.0</td>\n",
       "      <td>6.0</td>\n",
       "    </tr>\n",
       "    <tr>\n",
       "      <th>4</th>\n",
       "      <td>18528</td>\n",
       "      <td>9.0</td>\n",
       "      <td>1</td>\n",
       "      <td>1.0</td>\n",
       "      <td>2.0</td>\n",
       "      <td>1</td>\n",
       "      <td>1.0</td>\n",
       "      <td>1.0</td>\n",
       "    </tr>\n",
       "  </tbody>\n",
       "</table>\n",
       "</div>"
      ],
      "text/plain": [
       "      id  Time_spent_Alone  Stage_fear  Social_event_attendance  \\\n",
       "0  18524               3.0           0                      7.0   \n",
       "1  18525              11.0           1                      0.0   \n",
       "2  18526               3.0           0                      5.0   \n",
       "3  18527               3.0           0                      4.0   \n",
       "4  18528               9.0           1                      1.0   \n",
       "\n",
       "   Going_outside  Drained_after_socializing  Friends_circle_size  \\\n",
       "0            4.0                          0                  6.0   \n",
       "1            0.0                          1                  5.0   \n",
       "2            6.0                          0                 15.0   \n",
       "3            4.0                          0                  5.0   \n",
       "4            2.0                          1                  1.0   \n",
       "\n",
       "   Post_frequency  \n",
       "0             6.0  \n",
       "1             1.0  \n",
       "2             9.0  \n",
       "3             6.0  \n",
       "4             1.0  "
      ]
     },
     "execution_count": 74,
     "metadata": {},
     "output_type": "execute_result"
    }
   ],
   "source": [
    "train.head()"
   ]
  },
  {
   "cell_type": "code",
   "execution_count": 86,
   "metadata": {
    "execution": {
     "iopub.execute_input": "2025-07-07T05:20:23.245132Z",
     "iopub.status.busy": "2025-07-07T05:20:23.244790Z",
     "iopub.status.idle": "2025-07-07T05:20:23.876661Z",
     "shell.execute_reply": "2025-07-07T05:20:23.874998Z",
     "shell.execute_reply.started": "2025-07-07T05:20:23.245110Z"
    },
    "trusted": true
   },
   "outputs": [
    {
     "data": {
      "text/plain": [
       "(6175,)"
      ]
     },
     "execution_count": 86,
     "metadata": {},
     "output_type": "execute_result"
    }
   ],
   "source": [
    "from sklearn.linear_model import LogisticRegression\n",
    "# X=train.values[:,:-1]\n",
    "# Y=train.values[:,-1]\n",
    "model=LogisticRegression(penalty=None,max_iter=2000).fit(X,Y)\n",
    "# test_x=test.values[:,:-1]\n",
    "# test_y=test.values[:,-1]\n",
    "#sc=model.score()\n",
    "result=model.predict(train.values)\n",
    "result=result.T\n",
    "result.shape\n",
    "result=np.vstack(train[0])\n",
    "result.shape\n"
   ]
  },
  {
   "cell_type": "code",
   "execution_count": 76,
   "metadata": {
    "execution": {
     "iopub.execute_input": "2025-07-07T05:14:12.414979Z",
     "iopub.status.busy": "2025-07-07T05:14:12.414618Z",
     "iopub.status.idle": "2025-07-07T05:14:12.453835Z",
     "shell.execute_reply": "2025-07-07T05:14:12.452993Z",
     "shell.execute_reply.started": "2025-07-07T05:14:12.414820Z"
    },
    "trusted": true
   },
   "outputs": [
    {
     "data": {
      "text/html": [
       "<div>\n",
       "<style scoped>\n",
       "    .dataframe tbody tr th:only-of-type {\n",
       "        vertical-align: middle;\n",
       "    }\n",
       "\n",
       "    .dataframe tbody tr th {\n",
       "        vertical-align: top;\n",
       "    }\n",
       "\n",
       "    .dataframe thead th {\n",
       "        text-align: right;\n",
       "    }\n",
       "</style>\n",
       "<table border=\"1\" class=\"dataframe\">\n",
       "  <thead>\n",
       "    <tr style=\"text-align: right;\">\n",
       "      <th></th>\n",
       "      <th>id</th>\n",
       "      <th>Time_spent_Alone</th>\n",
       "      <th>Stage_fear</th>\n",
       "      <th>Social_event_attendance</th>\n",
       "      <th>Going_outside</th>\n",
       "      <th>Drained_after_socializing</th>\n",
       "      <th>Friends_circle_size</th>\n",
       "      <th>Post_frequency</th>\n",
       "    </tr>\n",
       "  </thead>\n",
       "  <tbody>\n",
       "    <tr>\n",
       "      <th>count</th>\n",
       "      <td>6175.000000</td>\n",
       "      <td>6175.000000</td>\n",
       "      <td>6175.000000</td>\n",
       "      <td>6175.000000</td>\n",
       "      <td>6175.000000</td>\n",
       "      <td>6175.000000</td>\n",
       "      <td>6175.000000</td>\n",
       "      <td>6175.000000</td>\n",
       "    </tr>\n",
       "    <tr>\n",
       "      <th>mean</th>\n",
       "      <td>21611.000000</td>\n",
       "      <td>3.373927</td>\n",
       "      <td>0.273846</td>\n",
       "      <td>5.393522</td>\n",
       "      <td>4.285182</td>\n",
       "      <td>0.244372</td>\n",
       "      <td>7.975870</td>\n",
       "      <td>5.169393</td>\n",
       "    </tr>\n",
       "    <tr>\n",
       "      <th>std</th>\n",
       "      <td>1782.713288</td>\n",
       "      <td>3.076068</td>\n",
       "      <td>0.445967</td>\n",
       "      <td>2.833569</td>\n",
       "      <td>2.326757</td>\n",
       "      <td>0.429749</td>\n",
       "      <td>4.225798</td>\n",
       "      <td>3.028769</td>\n",
       "    </tr>\n",
       "    <tr>\n",
       "      <th>min</th>\n",
       "      <td>18524.000000</td>\n",
       "      <td>0.000000</td>\n",
       "      <td>0.000000</td>\n",
       "      <td>0.000000</td>\n",
       "      <td>0.000000</td>\n",
       "      <td>0.000000</td>\n",
       "      <td>0.000000</td>\n",
       "      <td>0.000000</td>\n",
       "    </tr>\n",
       "    <tr>\n",
       "      <th>25%</th>\n",
       "      <td>20067.500000</td>\n",
       "      <td>1.000000</td>\n",
       "      <td>0.000000</td>\n",
       "      <td>3.000000</td>\n",
       "      <td>3.000000</td>\n",
       "      <td>0.000000</td>\n",
       "      <td>5.000000</td>\n",
       "      <td>3.000000</td>\n",
       "    </tr>\n",
       "    <tr>\n",
       "      <th>50%</th>\n",
       "      <td>21611.000000</td>\n",
       "      <td>3.000000</td>\n",
       "      <td>0.000000</td>\n",
       "      <td>6.000000</td>\n",
       "      <td>4.000000</td>\n",
       "      <td>0.000000</td>\n",
       "      <td>8.000000</td>\n",
       "      <td>5.000000</td>\n",
       "    </tr>\n",
       "    <tr>\n",
       "      <th>75%</th>\n",
       "      <td>23154.500000</td>\n",
       "      <td>5.000000</td>\n",
       "      <td>1.000000</td>\n",
       "      <td>8.000000</td>\n",
       "      <td>6.000000</td>\n",
       "      <td>0.000000</td>\n",
       "      <td>12.000000</td>\n",
       "      <td>8.000000</td>\n",
       "    </tr>\n",
       "    <tr>\n",
       "      <th>max</th>\n",
       "      <td>24698.000000</td>\n",
       "      <td>11.000000</td>\n",
       "      <td>1.000000</td>\n",
       "      <td>11.000000</td>\n",
       "      <td>11.000000</td>\n",
       "      <td>1.000000</td>\n",
       "      <td>22.000000</td>\n",
       "      <td>15.000000</td>\n",
       "    </tr>\n",
       "  </tbody>\n",
       "</table>\n",
       "</div>"
      ],
      "text/plain": [
       "                 id  Time_spent_Alone   Stage_fear  Social_event_attendance  \\\n",
       "count   6175.000000       6175.000000  6175.000000              6175.000000   \n",
       "mean   21611.000000          3.373927     0.273846                 5.393522   \n",
       "std     1782.713288          3.076068     0.445967                 2.833569   \n",
       "min    18524.000000          0.000000     0.000000                 0.000000   \n",
       "25%    20067.500000          1.000000     0.000000                 3.000000   \n",
       "50%    21611.000000          3.000000     0.000000                 6.000000   \n",
       "75%    23154.500000          5.000000     1.000000                 8.000000   \n",
       "max    24698.000000         11.000000     1.000000                11.000000   \n",
       "\n",
       "       Going_outside  Drained_after_socializing  Friends_circle_size  \\\n",
       "count    6175.000000                6175.000000          6175.000000   \n",
       "mean        4.285182                   0.244372             7.975870   \n",
       "std         2.326757                   0.429749             4.225798   \n",
       "min         0.000000                   0.000000             0.000000   \n",
       "25%         3.000000                   0.000000             5.000000   \n",
       "50%         4.000000                   0.000000             8.000000   \n",
       "75%         6.000000                   0.000000            12.000000   \n",
       "max        11.000000                   1.000000            22.000000   \n",
       "\n",
       "       Post_frequency  \n",
       "count     6175.000000  \n",
       "mean         5.169393  \n",
       "std          3.028769  \n",
       "min          0.000000  \n",
       "25%          3.000000  \n",
       "50%          5.000000  \n",
       "75%          8.000000  \n",
       "max         15.000000  "
      ]
     },
     "execution_count": 76,
     "metadata": {},
     "output_type": "execute_result"
    }
   ],
   "source": [
    "train.describe()"
   ]
  },
  {
   "cell_type": "code",
   "execution_count": null,
   "metadata": {
    "trusted": true
   },
   "outputs": [],
   "source": []
  }
 ],
 "metadata": {
  "kaggle": {
   "accelerator": "none",
   "dataSources": [
    {
     "databundleVersionId": 12738969,
     "sourceId": 91718,
     "sourceType": "competition"
    }
   ],
   "dockerImageVersionId": 31040,
   "isGpuEnabled": false,
   "isInternetEnabled": true,
   "language": "python",
   "sourceType": "notebook"
  },
  "kernelspec": {
   "display_name": "Python 3",
   "language": "python",
   "name": "python3"
  },
  "language_info": {
   "codemirror_mode": {
    "name": "ipython",
    "version": 3
   },
   "file_extension": ".py",
   "mimetype": "text/x-python",
   "name": "python",
   "nbconvert_exporter": "python",
   "pygments_lexer": "ipython3",
   "version": "3.11.11"
  }
 },
 "nbformat": 4,
 "nbformat_minor": 4
}
