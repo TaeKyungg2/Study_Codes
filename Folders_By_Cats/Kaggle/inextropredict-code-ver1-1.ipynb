{
 "cells": [
  {
   "cell_type": "code",
   "execution_count": 48,
   "metadata": {
    "_cell_guid": "b1076dfc-b9ad-4769-8c92-a6c4dae69d19",
    "_uuid": "8f2839f25d086af736a60e9eeb907d3b93b6e0e5",
    "execution": {
     "iopub.execute_input": "2025-07-07T05:36:50.294282Z",
     "iopub.status.busy": "2025-07-07T05:36:50.293884Z",
     "iopub.status.idle": "2025-07-07T05:36:50.302799Z",
     "shell.execute_reply": "2025-07-07T05:36:50.302085Z",
     "shell.execute_reply.started": "2025-07-07T05:36:50.294257Z"
    },
    "trusted": true
   },
   "outputs": [
    {
     "name": "stdout",
     "output_type": "stream",
     "text": [
      "/kaggle/input/playground-series-s5e7/sample_submission.csv\n",
      "/kaggle/input/playground-series-s5e7/train.csv\n",
      "/kaggle/input/playground-series-s5e7/test.csv\n"
     ]
    }
   ],
   "source": [
    "# This Python 3 environment comes with many helpful analytics libraries installed\n",
    "# It is defined by the kaggle/python Docker image: https://github.com/kaggle/docker-python\n",
    "# For example, here's several helpful packages to load\n",
    "\n",
    "import numpy as np # linear algebra\n",
    "import pandas as pd # data processing, CSV file I/O (e.g. pd.read_csv)\n",
    "\n",
    "# Input data files are available in the read-only \"../input/\" directory\n",
    "# For example, running this (by clicking run or pressing Shift+Enter) will list all files under the input directory\n",
    "\n",
    "import os\n",
    "for dirname, _, filenames in os.walk('/kaggle/input'):\n",
    "    for filename in filenames:\n",
    "        print(os.path.join(dirname, filename))\n",
    "\n",
    "# You can write up to 20GB to the current directory (/kaggle/working/) that gets preserved as output when you create a version using \"Save & Run All\" \n",
    "# You can also write temporary files to /kaggle/temp/, but they won't be saved outside of the current session"
   ]
  },
  {
   "cell_type": "code",
   "execution_count": 49,
   "metadata": {
    "execution": {
     "iopub.execute_input": "2025-07-07T05:36:50.304697Z",
     "iopub.status.busy": "2025-07-07T05:36:50.304382Z",
     "iopub.status.idle": "2025-07-07T05:36:50.352852Z",
     "shell.execute_reply": "2025-07-07T05:36:50.352044Z",
     "shell.execute_reply.started": "2025-07-07T05:36:50.304670Z"
    },
    "trusted": true
   },
   "outputs": [],
   "source": [
    "import pandas as pd\n",
    "import numpy as np\n",
    "\n",
    "Ssub=pd.read_csv(\"/kaggle/input/playground-series-s5e7/sample_submission.csv\")\n",
    "test=pd.read_csv(\"/kaggle/input/playground-series-s5e7/train.csv\")\n",
    "train=pd.read_csv(\"/kaggle/input/playground-series-s5e7/test.csv\")"
   ]
  },
  {
   "cell_type": "code",
   "execution_count": 50,
   "metadata": {
    "execution": {
     "iopub.execute_input": "2025-07-07T05:36:50.354020Z",
     "iopub.status.busy": "2025-07-07T05:36:50.353708Z",
     "iopub.status.idle": "2025-07-07T05:36:50.367388Z",
     "shell.execute_reply": "2025-07-07T05:36:50.366506Z",
     "shell.execute_reply.started": "2025-07-07T05:36:50.353999Z"
    },
    "trusted": true
   },
   "outputs": [
    {
     "name": "stderr",
     "output_type": "stream",
     "text": [
      "/usr/local/lib/python3.11/dist-packages/pandas/io/formats/format.py:1458: RuntimeWarning: invalid value encountered in greater\n",
      "  has_large_values = (abs_vals > 1e6).any()\n",
      "/usr/local/lib/python3.11/dist-packages/pandas/io/formats/format.py:1459: RuntimeWarning: invalid value encountered in less\n",
      "  has_small_values = ((abs_vals < 10 ** (-self.digits)) & (abs_vals > 0)).any()\n",
      "/usr/local/lib/python3.11/dist-packages/pandas/io/formats/format.py:1459: RuntimeWarning: invalid value encountered in greater\n",
      "  has_small_values = ((abs_vals < 10 ** (-self.digits)) & (abs_vals > 0)).any()\n"
     ]
    },
    {
     "data": {
      "text/html": [
       "<div>\n",
       "<style scoped>\n",
       "    .dataframe tbody tr th:only-of-type {\n",
       "        vertical-align: middle;\n",
       "    }\n",
       "\n",
       "    .dataframe tbody tr th {\n",
       "        vertical-align: top;\n",
       "    }\n",
       "\n",
       "    .dataframe thead th {\n",
       "        text-align: right;\n",
       "    }\n",
       "</style>\n",
       "<table border=\"1\" class=\"dataframe\">\n",
       "  <thead>\n",
       "    <tr style=\"text-align: right;\">\n",
       "      <th></th>\n",
       "      <th>id</th>\n",
       "      <th>Time_spent_Alone</th>\n",
       "      <th>Stage_fear</th>\n",
       "      <th>Social_event_attendance</th>\n",
       "      <th>Going_outside</th>\n",
       "      <th>Drained_after_socializing</th>\n",
       "      <th>Friends_circle_size</th>\n",
       "      <th>Post_frequency</th>\n",
       "      <th>Personality</th>\n",
       "    </tr>\n",
       "  </thead>\n",
       "  <tbody>\n",
       "    <tr>\n",
       "      <th>0</th>\n",
       "      <td>0</td>\n",
       "      <td>0.0</td>\n",
       "      <td>No</td>\n",
       "      <td>6.0</td>\n",
       "      <td>4.0</td>\n",
       "      <td>No</td>\n",
       "      <td>15.0</td>\n",
       "      <td>5.0</td>\n",
       "      <td>Extrovert</td>\n",
       "    </tr>\n",
       "    <tr>\n",
       "      <th>1</th>\n",
       "      <td>1</td>\n",
       "      <td>1.0</td>\n",
       "      <td>No</td>\n",
       "      <td>7.0</td>\n",
       "      <td>3.0</td>\n",
       "      <td>No</td>\n",
       "      <td>10.0</td>\n",
       "      <td>8.0</td>\n",
       "      <td>Extrovert</td>\n",
       "    </tr>\n",
       "    <tr>\n",
       "      <th>2</th>\n",
       "      <td>2</td>\n",
       "      <td>6.0</td>\n",
       "      <td>Yes</td>\n",
       "      <td>1.0</td>\n",
       "      <td>0.0</td>\n",
       "      <td>NaN</td>\n",
       "      <td>3.0</td>\n",
       "      <td>0.0</td>\n",
       "      <td>Introvert</td>\n",
       "    </tr>\n",
       "    <tr>\n",
       "      <th>3</th>\n",
       "      <td>3</td>\n",
       "      <td>3.0</td>\n",
       "      <td>No</td>\n",
       "      <td>7.0</td>\n",
       "      <td>3.0</td>\n",
       "      <td>No</td>\n",
       "      <td>11.0</td>\n",
       "      <td>5.0</td>\n",
       "      <td>Extrovert</td>\n",
       "    </tr>\n",
       "    <tr>\n",
       "      <th>4</th>\n",
       "      <td>4</td>\n",
       "      <td>1.0</td>\n",
       "      <td>No</td>\n",
       "      <td>4.0</td>\n",
       "      <td>4.0</td>\n",
       "      <td>No</td>\n",
       "      <td>13.0</td>\n",
       "      <td>NaN</td>\n",
       "      <td>Extrovert</td>\n",
       "    </tr>\n",
       "  </tbody>\n",
       "</table>\n",
       "</div>"
      ],
      "text/plain": [
       "   id  Time_spent_Alone Stage_fear  Social_event_attendance  Going_outside  \\\n",
       "0   0               0.0         No                      6.0            4.0   \n",
       "1   1               1.0         No                      7.0            3.0   \n",
       "2   2               6.0        Yes                      1.0            0.0   \n",
       "3   3               3.0         No                      7.0            3.0   \n",
       "4   4               1.0         No                      4.0            4.0   \n",
       "\n",
       "  Drained_after_socializing  Friends_circle_size  Post_frequency Personality  \n",
       "0                        No                 15.0             5.0   Extrovert  \n",
       "1                        No                 10.0             8.0   Extrovert  \n",
       "2                       NaN                  3.0             0.0   Introvert  \n",
       "3                        No                 11.0             5.0   Extrovert  \n",
       "4                        No                 13.0             NaN   Extrovert  "
      ]
     },
     "execution_count": 50,
     "metadata": {},
     "output_type": "execute_result"
    }
   ],
   "source": [
    "test.head()"
   ]
  },
  {
   "cell_type": "code",
   "execution_count": 51,
   "metadata": {
    "execution": {
     "iopub.execute_input": "2025-07-07T05:36:50.369118Z",
     "iopub.status.busy": "2025-07-07T05:36:50.368845Z",
     "iopub.status.idle": "2025-07-07T05:36:50.391816Z",
     "shell.execute_reply": "2025-07-07T05:36:50.390871Z",
     "shell.execute_reply.started": "2025-07-07T05:36:50.369093Z"
    },
    "trusted": true
   },
   "outputs": [
    {
     "data": {
      "text/plain": [
       "0       False\n",
       "1        True\n",
       "2       False\n",
       "3       False\n",
       "4       False\n",
       "        ...  \n",
       "6170    False\n",
       "6171    False\n",
       "6172    False\n",
       "6173    False\n",
       "6174     True\n",
       "Name: Time_spent_Alone, Length: 6175, dtype: bool"
      ]
     },
     "execution_count": 51,
     "metadata": {},
     "output_type": "execute_result"
    }
   ],
   "source": [
    "train['Time_spent_Alone'].isnull()"
   ]
  },
  {
   "cell_type": "code",
   "execution_count": 52,
   "metadata": {
    "execution": {
     "iopub.execute_input": "2025-07-07T05:36:50.392939Z",
     "iopub.status.busy": "2025-07-07T05:36:50.392654Z",
     "iopub.status.idle": "2025-07-07T05:36:50.411938Z",
     "shell.execute_reply": "2025-07-07T05:36:50.410994Z",
     "shell.execute_reply.started": "2025-07-07T05:36:50.392912Z"
    },
    "trusted": true
   },
   "outputs": [
    {
     "name": "stdout",
     "output_type": "stream",
     "text": [
      "<class 'pandas.core.frame.DataFrame'>\n",
      "RangeIndex: 6175 entries, 0 to 6174\n",
      "Data columns (total 8 columns):\n",
      " #   Column                     Non-Null Count  Dtype  \n",
      "---  ------                     --------------  -----  \n",
      " 0   id                         6175 non-null   int64  \n",
      " 1   Time_spent_Alone           5750 non-null   float64\n",
      " 2   Stage_fear                 5577 non-null   object \n",
      " 3   Social_event_attendance    5778 non-null   float64\n",
      " 4   Going_outside              5709 non-null   float64\n",
      " 5   Drained_after_socializing  5743 non-null   object \n",
      " 6   Friends_circle_size        5825 non-null   float64\n",
      " 7   Post_frequency             5767 non-null   float64\n",
      "dtypes: float64(5), int64(1), object(2)\n",
      "memory usage: 386.1+ KB\n"
     ]
    }
   ],
   "source": [
    "train.info()"
   ]
  },
  {
   "cell_type": "code",
   "execution_count": 53,
   "metadata": {
    "execution": {
     "iopub.execute_input": "2025-07-07T05:36:50.413215Z",
     "iopub.status.busy": "2025-07-07T05:36:50.412892Z",
     "iopub.status.idle": "2025-07-07T05:36:50.436097Z",
     "shell.execute_reply": "2025-07-07T05:36:50.435213Z",
     "shell.execute_reply.started": "2025-07-07T05:36:50.413195Z"
    },
    "trusted": true
   },
   "outputs": [
    {
     "name": "stdout",
     "output_type": "stream",
     "text": [
      "<class 'pandas.core.frame.DataFrame'>\n",
      "RangeIndex: 6175 entries, 0 to 6174\n",
      "Data columns (total 8 columns):\n",
      " #   Column                     Non-Null Count  Dtype  \n",
      "---  ------                     --------------  -----  \n",
      " 0   id                         6175 non-null   int64  \n",
      " 1   Time_spent_Alone           6158 non-null   float64\n",
      " 2   Stage_fear                 5577 non-null   object \n",
      " 3   Social_event_attendance    5778 non-null   float64\n",
      " 4   Going_outside              5709 non-null   float64\n",
      " 5   Drained_after_socializing  5743 non-null   object \n",
      " 6   Friends_circle_size        5825 non-null   float64\n",
      " 7   Post_frequency             5767 non-null   float64\n",
      "dtypes: float64(5), int64(1), object(2)\n",
      "memory usage: 386.1+ KB\n"
     ]
    }
   ],
   "source": [
    "train.fillna({'Time_spent_Alone':11-train['Going_outside']},inplace=True)\n",
    "train.info()"
   ]
  },
  {
   "cell_type": "code",
   "execution_count": null,
   "metadata": {
    "execution": {
     "iopub.execute_input": "2025-07-07T05:36:50.437339Z",
     "iopub.status.busy": "2025-07-07T05:36:50.437070Z",
     "iopub.status.idle": "2025-07-07T05:36:50.455581Z",
     "shell.execute_reply": "2025-07-07T05:36:50.454705Z",
     "shell.execute_reply.started": "2025-07-07T05:36:50.437313Z"
    },
    "trusted": true
   },
   "outputs": [
    {
     "name": "stdout",
     "output_type": "stream",
     "text": [
      "<class 'pandas.core.frame.DataFrame'>\n",
      "RangeIndex: 6175 entries, 0 to 6174\n",
      "Data columns (total 8 columns):\n",
      " #   Column                     Non-Null Count  Dtype  \n",
      "---  ------                     --------------  -----  \n",
      " 0   id                         6175 non-null   int64  \n",
      " 1   Time_spent_Alone           6158 non-null   float64\n",
      " 2   Stage_fear                 6175 non-null   object \n",
      " 3   Social_event_attendance    5778 non-null   float64\n",
      " 4   Going_outside              5709 non-null   float64\n",
      " 5   Drained_after_socializing  5743 non-null   object \n",
      " 6   Friends_circle_size        5825 non-null   float64\n",
      " 7   Post_frequency             5767 non-null   float64\n",
      "dtypes: float64(5), int64(1), object(2)\n",
      "memory usage: 386.1+ KB\n"
     ]
    },
    {
     "name": "stderr",
     "output_type": "stream",
     "text": [
      "/usr/local/lib/python3.11/dist-packages/pandas/core/computation/expressions.py:73: RuntimeWarning: invalid value encountered in less_equal\n",
      "  return op(a, b)\n"
     ]
    }
   ],
   "source": [
    "mask = train['Stage_fear'].isna()\n",
    "train.loc[mask, 'Stage_fear'] = np.where(\n",
    "    train.loc[mask, 'Social_event_attendance'] <= 5,\n",
    "    'Yes',\n",
    "    'No'\n",
    ")\n",
    "train.info()"
   ]
  },
  {
   "cell_type": "code",
   "execution_count": 55,
   "metadata": {
    "execution": {
     "iopub.execute_input": "2025-07-07T05:36:50.456801Z",
     "iopub.status.busy": "2025-07-07T05:36:50.456585Z",
     "iopub.status.idle": "2025-07-07T05:36:50.469611Z",
     "shell.execute_reply": "2025-07-07T05:36:50.468609Z",
     "shell.execute_reply.started": "2025-07-07T05:36:50.456784Z"
    },
    "trusted": true
   },
   "outputs": [
    {
     "name": "stdout",
     "output_type": "stream",
     "text": [
      "<class 'pandas.core.frame.DataFrame'>\n",
      "RangeIndex: 6175 entries, 0 to 6174\n",
      "Data columns (total 8 columns):\n",
      " #   Column                     Non-Null Count  Dtype  \n",
      "---  ------                     --------------  -----  \n",
      " 0   id                         6175 non-null   int64  \n",
      " 1   Time_spent_Alone           6158 non-null   float64\n",
      " 2   Stage_fear                 6175 non-null   object \n",
      " 3   Social_event_attendance    6175 non-null   float64\n",
      " 4   Going_outside              5709 non-null   float64\n",
      " 5   Drained_after_socializing  5743 non-null   object \n",
      " 6   Friends_circle_size        5825 non-null   float64\n",
      " 7   Post_frequency             5767 non-null   float64\n",
      "dtypes: float64(5), int64(1), object(2)\n",
      "memory usage: 386.1+ KB\n"
     ]
    }
   ],
   "source": [
    "mask=train['Social_event_attendance'].isna()\n",
    "train.loc[mask,'Social_event_attendance']=\\\n",
    "    11-train['Time_spent_Alone']\n",
    "train.info()"
   ]
  },
  {
   "cell_type": "code",
   "execution_count": 56,
   "metadata": {
    "execution": {
     "iopub.execute_input": "2025-07-07T05:36:50.472265Z",
     "iopub.status.busy": "2025-07-07T05:36:50.471982Z",
     "iopub.status.idle": "2025-07-07T05:36:50.491562Z",
     "shell.execute_reply": "2025-07-07T05:36:50.490616Z",
     "shell.execute_reply.started": "2025-07-07T05:36:50.472237Z"
    },
    "trusted": true
   },
   "outputs": [
    {
     "data": {
      "text/plain": [
       "count    6158.000000\n",
       "mean        3.363592\n",
       "std         3.071740\n",
       "min         0.000000\n",
       "25%         1.000000\n",
       "50%         3.000000\n",
       "75%         5.000000\n",
       "max        11.000000\n",
       "Name: Time_spent_Alone, dtype: float64"
      ]
     },
     "execution_count": 56,
     "metadata": {},
     "output_type": "execute_result"
    }
   ],
   "source": [
    "train['Time_spent_Alone'].describe()"
   ]
  },
  {
   "cell_type": "code",
   "execution_count": 57,
   "metadata": {
    "execution": {
     "iopub.execute_input": "2025-07-07T05:36:50.499666Z",
     "iopub.status.busy": "2025-07-07T05:36:50.499333Z",
     "iopub.status.idle": "2025-07-07T05:36:50.509646Z",
     "shell.execute_reply": "2025-07-07T05:36:50.508862Z",
     "shell.execute_reply.started": "2025-07-07T05:36:50.499636Z"
    },
    "trusted": true
   },
   "outputs": [
    {
     "data": {
      "text/plain": [
       "count    5709.000000\n",
       "mean        4.037835\n",
       "std         2.045207\n",
       "min         0.000000\n",
       "25%         3.000000\n",
       "50%         4.000000\n",
       "75%         6.000000\n",
       "max         7.000000\n",
       "Name: Going_outside, dtype: float64"
      ]
     },
     "execution_count": 57,
     "metadata": {},
     "output_type": "execute_result"
    }
   ],
   "source": [
    "train['Going_outside'].describe()"
   ]
  },
  {
   "cell_type": "code",
   "execution_count": 58,
   "metadata": {
    "execution": {
     "iopub.execute_input": "2025-07-07T05:36:50.511454Z",
     "iopub.status.busy": "2025-07-07T05:36:50.511155Z",
     "iopub.status.idle": "2025-07-07T05:36:50.530925Z",
     "shell.execute_reply": "2025-07-07T05:36:50.529846Z",
     "shell.execute_reply.started": "2025-07-07T05:36:50.511432Z"
    },
    "trusted": true
   },
   "outputs": [
    {
     "name": "stdout",
     "output_type": "stream",
     "text": [
      "<class 'pandas.core.frame.DataFrame'>\n",
      "RangeIndex: 6175 entries, 0 to 6174\n",
      "Data columns (total 8 columns):\n",
      " #   Column                     Non-Null Count  Dtype  \n",
      "---  ------                     --------------  -----  \n",
      " 0   id                         6175 non-null   int64  \n",
      " 1   Time_spent_Alone           6158 non-null   float64\n",
      " 2   Stage_fear                 6175 non-null   object \n",
      " 3   Social_event_attendance    6175 non-null   float64\n",
      " 4   Going_outside              6158 non-null   float64\n",
      " 5   Drained_after_socializing  5743 non-null   object \n",
      " 6   Friends_circle_size        5825 non-null   float64\n",
      " 7   Post_frequency             5767 non-null   float64\n",
      "dtypes: float64(5), int64(1), object(2)\n",
      "memory usage: 386.1+ KB\n"
     ]
    }
   ],
   "source": [
    "train.fillna({'Going_outside':11-train['Time_spent_Alone']},inplace=True)\n",
    "train.info()"
   ]
  },
  {
   "cell_type": "code",
   "execution_count": 59,
   "metadata": {
    "execution": {
     "iopub.execute_input": "2025-07-07T05:36:50.532030Z",
     "iopub.status.busy": "2025-07-07T05:36:50.531723Z",
     "iopub.status.idle": "2025-07-07T05:36:50.549726Z",
     "shell.execute_reply": "2025-07-07T05:36:50.548943Z",
     "shell.execute_reply.started": "2025-07-07T05:36:50.532011Z"
    },
    "trusted": true
   },
   "outputs": [
    {
     "name": "stdout",
     "output_type": "stream",
     "text": [
      "<class 'pandas.core.frame.DataFrame'>\n",
      "RangeIndex: 6175 entries, 0 to 6174\n",
      "Data columns (total 8 columns):\n",
      " #   Column                     Non-Null Count  Dtype  \n",
      "---  ------                     --------------  -----  \n",
      " 0   id                         6175 non-null   int64  \n",
      " 1   Time_spent_Alone           6158 non-null   float64\n",
      " 2   Stage_fear                 6175 non-null   object \n",
      " 3   Social_event_attendance    6175 non-null   float64\n",
      " 4   Going_outside              6158 non-null   float64\n",
      " 5   Drained_after_socializing  6175 non-null   object \n",
      " 6   Friends_circle_size        5825 non-null   float64\n",
      " 7   Post_frequency             5767 non-null   float64\n",
      "dtypes: float64(5), int64(1), object(2)\n",
      "memory usage: 386.1+ KB\n"
     ]
    },
    {
     "name": "stderr",
     "output_type": "stream",
     "text": [
      "/usr/local/lib/python3.11/dist-packages/pandas/core/computation/expressions.py:73: RuntimeWarning: invalid value encountered in less_equal\n",
      "  return op(a, b)\n"
     ]
    }
   ],
   "source": [
    "mask = train['Drained_after_socializing'].isna()\n",
    "train.loc[mask, 'Drained_after_socializing'] = np.where(\n",
    "    train.loc[mask, 'Friends_circle_size'] <= 4,\n",
    "    'Yes',\n",
    "    'No'\n",
    ")\n",
    "train.info()"
   ]
  },
  {
   "cell_type": "code",
   "execution_count": 60,
   "metadata": {
    "execution": {
     "iopub.execute_input": "2025-07-07T05:36:50.552114Z",
     "iopub.status.busy": "2025-07-07T05:36:50.551834Z",
     "iopub.status.idle": "2025-07-07T05:36:50.567088Z",
     "shell.execute_reply": "2025-07-07T05:36:50.566173Z",
     "shell.execute_reply.started": "2025-07-07T05:36:50.552094Z"
    },
    "trusted": true
   },
   "outputs": [
    {
     "name": "stdout",
     "output_type": "stream",
     "text": [
      "<class 'pandas.core.frame.DataFrame'>\n",
      "RangeIndex: 6175 entries, 0 to 6174\n",
      "Data columns (total 8 columns):\n",
      " #   Column                     Non-Null Count  Dtype  \n",
      "---  ------                     --------------  -----  \n",
      " 0   id                         6175 non-null   int64  \n",
      " 1   Time_spent_Alone           6158 non-null   float64\n",
      " 2   Stage_fear                 6175 non-null   object \n",
      " 3   Social_event_attendance    6175 non-null   float64\n",
      " 4   Going_outside              6158 non-null   float64\n",
      " 5   Drained_after_socializing  6175 non-null   object \n",
      " 6   Friends_circle_size        6175 non-null   float64\n",
      " 7   Post_frequency             5767 non-null   float64\n",
      "dtypes: float64(5), int64(1), object(2)\n",
      "memory usage: 386.1+ KB\n"
     ]
    }
   ],
   "source": [
    "train.fillna({'Friends_circle_size':train['Going_outside']*2},inplace=True)\n",
    "train.info()"
   ]
  },
  {
   "cell_type": "code",
   "execution_count": 61,
   "metadata": {
    "execution": {
     "iopub.execute_input": "2025-07-07T05:36:50.568590Z",
     "iopub.status.busy": "2025-07-07T05:36:50.568202Z",
     "iopub.status.idle": "2025-07-07T05:36:50.591396Z",
     "shell.execute_reply": "2025-07-07T05:36:50.590376Z",
     "shell.execute_reply.started": "2025-07-07T05:36:50.568568Z"
    },
    "trusted": true
   },
   "outputs": [
    {
     "name": "stdout",
     "output_type": "stream",
     "text": [
      "<class 'pandas.core.frame.DataFrame'>\n",
      "RangeIndex: 6175 entries, 0 to 6174\n",
      "Data columns (total 8 columns):\n",
      " #   Column                     Non-Null Count  Dtype  \n",
      "---  ------                     --------------  -----  \n",
      " 0   id                         6175 non-null   int64  \n",
      " 1   Time_spent_Alone           6158 non-null   float64\n",
      " 2   Stage_fear                 6175 non-null   object \n",
      " 3   Social_event_attendance    6175 non-null   float64\n",
      " 4   Going_outside              6158 non-null   float64\n",
      " 5   Drained_after_socializing  6175 non-null   object \n",
      " 6   Friends_circle_size        6175 non-null   float64\n",
      " 7   Post_frequency             6175 non-null   float64\n",
      "dtypes: float64(5), int64(1), object(2)\n",
      "memory usage: 386.1+ KB\n"
     ]
    }
   ],
   "source": [
    "train.fillna({'Post_frequency':train['Friends_circle_size']},inplace=True)\n",
    "train.info()"
   ]
  },
  {
   "cell_type": "code",
   "execution_count": 62,
   "metadata": {
    "execution": {
     "iopub.execute_input": "2025-07-07T05:36:50.592639Z",
     "iopub.status.busy": "2025-07-07T05:36:50.592354Z",
     "iopub.status.idle": "2025-07-07T05:36:50.609395Z",
     "shell.execute_reply": "2025-07-07T05:36:50.608530Z",
     "shell.execute_reply.started": "2025-07-07T05:36:50.592619Z"
    },
    "trusted": true
   },
   "outputs": [
    {
     "name": "stdout",
     "output_type": "stream",
     "text": [
      "<class 'pandas.core.frame.DataFrame'>\n",
      "RangeIndex: 6175 entries, 0 to 6174\n",
      "Data columns (total 8 columns):\n",
      " #   Column                     Non-Null Count  Dtype  \n",
      "---  ------                     --------------  -----  \n",
      " 0   id                         6175 non-null   int64  \n",
      " 1   Time_spent_Alone           6158 non-null   float64\n",
      " 2   Stage_fear                 6175 non-null   object \n",
      " 3   Social_event_attendance    6175 non-null   float64\n",
      " 4   Going_outside              6175 non-null   float64\n",
      " 5   Drained_after_socializing  6175 non-null   object \n",
      " 6   Friends_circle_size        6175 non-null   float64\n",
      " 7   Post_frequency             6175 non-null   float64\n",
      "dtypes: float64(5), int64(1), object(2)\n",
      "memory usage: 386.1+ KB\n"
     ]
    }
   ],
   "source": [
    "train.fillna({'Going_outside':train['Friends_circle_size']//2},inplace=True)\n",
    "train.info()"
   ]
  },
  {
   "cell_type": "code",
   "execution_count": 63,
   "metadata": {
    "execution": {
     "iopub.execute_input": "2025-07-07T05:36:50.611069Z",
     "iopub.status.busy": "2025-07-07T05:36:50.610631Z",
     "iopub.status.idle": "2025-07-07T05:36:50.623293Z",
     "shell.execute_reply": "2025-07-07T05:36:50.622354Z",
     "shell.execute_reply.started": "2025-07-07T05:36:50.611013Z"
    },
    "trusted": true
   },
   "outputs": [
    {
     "name": "stdout",
     "output_type": "stream",
     "text": [
      "<class 'pandas.core.frame.DataFrame'>\n",
      "RangeIndex: 6175 entries, 0 to 6174\n",
      "Data columns (total 8 columns):\n",
      " #   Column                     Non-Null Count  Dtype  \n",
      "---  ------                     --------------  -----  \n",
      " 0   id                         6175 non-null   int64  \n",
      " 1   Time_spent_Alone           6175 non-null   float64\n",
      " 2   Stage_fear                 6175 non-null   object \n",
      " 3   Social_event_attendance    6175 non-null   float64\n",
      " 4   Going_outside              6175 non-null   float64\n",
      " 5   Drained_after_socializing  6175 non-null   object \n",
      " 6   Friends_circle_size        6175 non-null   float64\n",
      " 7   Post_frequency             6175 non-null   float64\n",
      "dtypes: float64(5), int64(1), object(2)\n",
      "memory usage: 386.1+ KB\n"
     ]
    }
   ],
   "source": [
    "train.fillna({'Time_spent_Alone':11-train['Going_outside']},inplace=True)\n",
    "train.info()"
   ]
  },
  {
   "cell_type": "code",
   "execution_count": 64,
   "metadata": {
    "execution": {
     "iopub.execute_input": "2025-07-07T05:36:50.624310Z",
     "iopub.status.busy": "2025-07-07T05:36:50.624076Z",
     "iopub.status.idle": "2025-07-07T05:36:50.630060Z",
     "shell.execute_reply": "2025-07-07T05:36:50.629119Z",
     "shell.execute_reply.started": "2025-07-07T05:36:50.624287Z"
    },
    "trusted": true
   },
   "outputs": [],
   "source": [
    "train['Stage_fear']=train['Stage_fear'].map({'Yes':1,'No':0})"
   ]
  },
  {
   "cell_type": "code",
   "execution_count": 65,
   "metadata": {
    "execution": {
     "iopub.execute_input": "2025-07-07T05:36:50.631230Z",
     "iopub.status.busy": "2025-07-07T05:36:50.630926Z",
     "iopub.status.idle": "2025-07-07T05:36:50.653881Z",
     "shell.execute_reply": "2025-07-07T05:36:50.652972Z",
     "shell.execute_reply.started": "2025-07-07T05:36:50.631205Z"
    },
    "trusted": true
   },
   "outputs": [
    {
     "data": {
      "text/html": [
       "<div>\n",
       "<style scoped>\n",
       "    .dataframe tbody tr th:only-of-type {\n",
       "        vertical-align: middle;\n",
       "    }\n",
       "\n",
       "    .dataframe tbody tr th {\n",
       "        vertical-align: top;\n",
       "    }\n",
       "\n",
       "    .dataframe thead th {\n",
       "        text-align: right;\n",
       "    }\n",
       "</style>\n",
       "<table border=\"1\" class=\"dataframe\">\n",
       "  <thead>\n",
       "    <tr style=\"text-align: right;\">\n",
       "      <th></th>\n",
       "      <th>id</th>\n",
       "      <th>Time_spent_Alone</th>\n",
       "      <th>Stage_fear</th>\n",
       "      <th>Social_event_attendance</th>\n",
       "      <th>Going_outside</th>\n",
       "      <th>Drained_after_socializing</th>\n",
       "      <th>Friends_circle_size</th>\n",
       "      <th>Post_frequency</th>\n",
       "    </tr>\n",
       "  </thead>\n",
       "  <tbody>\n",
       "    <tr>\n",
       "      <th>0</th>\n",
       "      <td>18524</td>\n",
       "      <td>3.0</td>\n",
       "      <td>0</td>\n",
       "      <td>7.0</td>\n",
       "      <td>4.0</td>\n",
       "      <td>No</td>\n",
       "      <td>6.0</td>\n",
       "      <td>6.0</td>\n",
       "    </tr>\n",
       "    <tr>\n",
       "      <th>1</th>\n",
       "      <td>18525</td>\n",
       "      <td>11.0</td>\n",
       "      <td>1</td>\n",
       "      <td>0.0</td>\n",
       "      <td>0.0</td>\n",
       "      <td>Yes</td>\n",
       "      <td>5.0</td>\n",
       "      <td>1.0</td>\n",
       "    </tr>\n",
       "    <tr>\n",
       "      <th>2</th>\n",
       "      <td>18526</td>\n",
       "      <td>3.0</td>\n",
       "      <td>0</td>\n",
       "      <td>5.0</td>\n",
       "      <td>6.0</td>\n",
       "      <td>No</td>\n",
       "      <td>15.0</td>\n",
       "      <td>9.0</td>\n",
       "    </tr>\n",
       "    <tr>\n",
       "      <th>3</th>\n",
       "      <td>18527</td>\n",
       "      <td>3.0</td>\n",
       "      <td>0</td>\n",
       "      <td>4.0</td>\n",
       "      <td>4.0</td>\n",
       "      <td>No</td>\n",
       "      <td>5.0</td>\n",
       "      <td>6.0</td>\n",
       "    </tr>\n",
       "    <tr>\n",
       "      <th>4</th>\n",
       "      <td>18528</td>\n",
       "      <td>9.0</td>\n",
       "      <td>1</td>\n",
       "      <td>1.0</td>\n",
       "      <td>2.0</td>\n",
       "      <td>Yes</td>\n",
       "      <td>1.0</td>\n",
       "      <td>1.0</td>\n",
       "    </tr>\n",
       "  </tbody>\n",
       "</table>\n",
       "</div>"
      ],
      "text/plain": [
       "      id  Time_spent_Alone  Stage_fear  Social_event_attendance  \\\n",
       "0  18524               3.0           0                      7.0   \n",
       "1  18525              11.0           1                      0.0   \n",
       "2  18526               3.0           0                      5.0   \n",
       "3  18527               3.0           0                      4.0   \n",
       "4  18528               9.0           1                      1.0   \n",
       "\n",
       "   Going_outside Drained_after_socializing  Friends_circle_size  \\\n",
       "0            4.0                        No                  6.0   \n",
       "1            0.0                       Yes                  5.0   \n",
       "2            6.0                        No                 15.0   \n",
       "3            4.0                        No                  5.0   \n",
       "4            2.0                       Yes                  1.0   \n",
       "\n",
       "   Post_frequency  \n",
       "0             6.0  \n",
       "1             1.0  \n",
       "2             9.0  \n",
       "3             6.0  \n",
       "4             1.0  "
      ]
     },
     "execution_count": 65,
     "metadata": {},
     "output_type": "execute_result"
    }
   ],
   "source": [
    "train.head()"
   ]
  },
  {
   "cell_type": "code",
   "execution_count": 66,
   "metadata": {
    "execution": {
     "iopub.execute_input": "2025-07-07T05:36:50.656426Z",
     "iopub.status.busy": "2025-07-07T05:36:50.655921Z",
     "iopub.status.idle": "2025-07-07T05:36:50.670890Z",
     "shell.execute_reply": "2025-07-07T05:36:50.669993Z",
     "shell.execute_reply.started": "2025-07-07T05:36:50.656406Z"
    },
    "trusted": true
   },
   "outputs": [],
   "source": [
    "train['Drained_after_socializing']=train['Drained_after_socializing'].map({'Yes':1,'No':0})"
   ]
  },
  {
   "cell_type": "code",
   "execution_count": 67,
   "metadata": {
    "execution": {
     "iopub.execute_input": "2025-07-07T05:36:50.672004Z",
     "iopub.status.busy": "2025-07-07T05:36:50.671732Z",
     "iopub.status.idle": "2025-07-07T05:36:50.694738Z",
     "shell.execute_reply": "2025-07-07T05:36:50.693925Z",
     "shell.execute_reply.started": "2025-07-07T05:36:50.671986Z"
    },
    "trusted": true
   },
   "outputs": [
    {
     "data": {
      "text/html": [
       "<div>\n",
       "<style scoped>\n",
       "    .dataframe tbody tr th:only-of-type {\n",
       "        vertical-align: middle;\n",
       "    }\n",
       "\n",
       "    .dataframe tbody tr th {\n",
       "        vertical-align: top;\n",
       "    }\n",
       "\n",
       "    .dataframe thead th {\n",
       "        text-align: right;\n",
       "    }\n",
       "</style>\n",
       "<table border=\"1\" class=\"dataframe\">\n",
       "  <thead>\n",
       "    <tr style=\"text-align: right;\">\n",
       "      <th></th>\n",
       "      <th>id</th>\n",
       "      <th>Time_spent_Alone</th>\n",
       "      <th>Stage_fear</th>\n",
       "      <th>Social_event_attendance</th>\n",
       "      <th>Going_outside</th>\n",
       "      <th>Drained_after_socializing</th>\n",
       "      <th>Friends_circle_size</th>\n",
       "      <th>Post_frequency</th>\n",
       "    </tr>\n",
       "  </thead>\n",
       "  <tbody>\n",
       "    <tr>\n",
       "      <th>0</th>\n",
       "      <td>18524</td>\n",
       "      <td>3.0</td>\n",
       "      <td>0</td>\n",
       "      <td>7.0</td>\n",
       "      <td>4.0</td>\n",
       "      <td>0</td>\n",
       "      <td>6.0</td>\n",
       "      <td>6.0</td>\n",
       "    </tr>\n",
       "    <tr>\n",
       "      <th>1</th>\n",
       "      <td>18525</td>\n",
       "      <td>11.0</td>\n",
       "      <td>1</td>\n",
       "      <td>0.0</td>\n",
       "      <td>0.0</td>\n",
       "      <td>1</td>\n",
       "      <td>5.0</td>\n",
       "      <td>1.0</td>\n",
       "    </tr>\n",
       "    <tr>\n",
       "      <th>2</th>\n",
       "      <td>18526</td>\n",
       "      <td>3.0</td>\n",
       "      <td>0</td>\n",
       "      <td>5.0</td>\n",
       "      <td>6.0</td>\n",
       "      <td>0</td>\n",
       "      <td>15.0</td>\n",
       "      <td>9.0</td>\n",
       "    </tr>\n",
       "    <tr>\n",
       "      <th>3</th>\n",
       "      <td>18527</td>\n",
       "      <td>3.0</td>\n",
       "      <td>0</td>\n",
       "      <td>4.0</td>\n",
       "      <td>4.0</td>\n",
       "      <td>0</td>\n",
       "      <td>5.0</td>\n",
       "      <td>6.0</td>\n",
       "    </tr>\n",
       "    <tr>\n",
       "      <th>4</th>\n",
       "      <td>18528</td>\n",
       "      <td>9.0</td>\n",
       "      <td>1</td>\n",
       "      <td>1.0</td>\n",
       "      <td>2.0</td>\n",
       "      <td>1</td>\n",
       "      <td>1.0</td>\n",
       "      <td>1.0</td>\n",
       "    </tr>\n",
       "  </tbody>\n",
       "</table>\n",
       "</div>"
      ],
      "text/plain": [
       "      id  Time_spent_Alone  Stage_fear  Social_event_attendance  \\\n",
       "0  18524               3.0           0                      7.0   \n",
       "1  18525              11.0           1                      0.0   \n",
       "2  18526               3.0           0                      5.0   \n",
       "3  18527               3.0           0                      4.0   \n",
       "4  18528               9.0           1                      1.0   \n",
       "\n",
       "   Going_outside  Drained_after_socializing  Friends_circle_size  \\\n",
       "0            4.0                          0                  6.0   \n",
       "1            0.0                          1                  5.0   \n",
       "2            6.0                          0                 15.0   \n",
       "3            4.0                          0                  5.0   \n",
       "4            2.0                          1                  1.0   \n",
       "\n",
       "   Post_frequency  \n",
       "0             6.0  \n",
       "1             1.0  \n",
       "2             9.0  \n",
       "3             6.0  \n",
       "4             1.0  "
      ]
     },
     "execution_count": 67,
     "metadata": {},
     "output_type": "execute_result"
    }
   ],
   "source": [
    "train.head()"
   ]
  },
  {
   "cell_type": "code",
   "execution_count": 82,
   "metadata": {
    "execution": {
     "iopub.execute_input": "2025-07-07T05:48:09.499728Z",
     "iopub.status.busy": "2025-07-07T05:48:09.499431Z",
     "iopub.status.idle": "2025-07-07T05:48:10.452523Z",
     "shell.execute_reply": "2025-07-07T05:48:10.449026Z",
     "shell.execute_reply.started": "2025-07-07T05:48:09.499705Z"
    },
    "trusted": true
   },
   "outputs": [],
   "source": [
    "from sklearn.linear_model import LogisticRegression\n",
    "model=LogisticRegression(penalty=None,max_iter=2000).fit(X,Y)\n",
    "# # test_x=test.values[:,:-1]\n",
    "# # test_y=test.values[:,-1]\n",
    "# #sc=model.score()\n",
    "result=model.predict(train.values)\n",
    "result=result.T\n",
    "result.shape\n",
    "idd=train['id'].values\n",
    "K=np.vstack([idd,result])\n",
    "K.shape\n",
    "title=np.array(['id','Personality'])\n",
    "K=K.T\n",
    "DK=pd.DataFrame(K,columns=['id','Personality'])\n",
    "DK.to_csv(\"/kaggle/working/my_out\",index=False)"
   ]
  },
  {
   "cell_type": "code",
   "execution_count": null,
   "metadata": {
    "execution": {
     "iopub.status.busy": "2025-07-07T05:36:51.263224Z",
     "iopub.status.idle": "2025-07-07T05:36:51.264161Z",
     "shell.execute_reply": "2025-07-07T05:36:51.263965Z",
     "shell.execute_reply.started": "2025-07-07T05:36:51.263945Z"
    },
    "trusted": true
   },
   "outputs": [],
   "source": [
    "train.describe()"
   ]
  },
  {
   "cell_type": "code",
   "execution_count": null,
   "metadata": {
    "trusted": true
   },
   "outputs": [],
   "source": []
  }
 ],
 "metadata": {
  "kaggle": {
   "accelerator": "none",
   "dataSources": [
    {
     "databundleVersionId": 12738969,
     "sourceId": 91718,
     "sourceType": "competition"
    }
   ],
   "dockerImageVersionId": 31040,
   "isGpuEnabled": false,
   "isInternetEnabled": true,
   "language": "python",
   "sourceType": "notebook"
  },
  "kernelspec": {
   "display_name": "base",
   "language": "python",
   "name": "python3"
  },
  "language_info": {
   "codemirror_mode": {
    "name": "ipython",
    "version": 3
   },
   "file_extension": ".py",
   "mimetype": "text/x-python",
   "name": "python",
   "nbconvert_exporter": "python",
   "pygments_lexer": "ipython3",
   "version": "3.12.7"
  }
 },
 "nbformat": 4,
 "nbformat_minor": 4
}
