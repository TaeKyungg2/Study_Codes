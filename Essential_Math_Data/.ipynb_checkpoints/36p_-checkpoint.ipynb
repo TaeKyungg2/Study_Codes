{
 "cells": [
  {
   "cell_type": "code",
   "execution_count": 1,
   "id": "712993a9-ad36-4ebe-82ca-d91c502c7c80",
   "metadata": {},
   "outputs": [
    {
     "name": "stdout",
     "output_type": "stream",
     "text": [
      "3.0\n"
     ]
    }
   ],
   "source": [
    "from math import log\n",
    "x=log(8,2)\n",
    "print(x)"
   ]
  },
  {
   "cell_type": "code",
   "execution_count": 4,
   "id": "a329ef07-8233-41f8-8d67-8503fa7ee05c",
   "metadata": {},
   "outputs": [
    {
     "name": "stdout",
     "output_type": "stream",
     "text": [
      "149.18246976412703\n"
     ]
    }
   ],
   "source": [
    "from math import exp\n",
    "p=100\n",
    "r=0.2\n",
    "t=2\n",
    "a=p*exp(r*t)\n",
    "print(a)"
   ]
  },
  {
   "cell_type": "markdown",
   "id": "2964b3e1-0fa4-4f8a-93d4-60bd411af333",
   "metadata": {},
   "source": [
    "### 연속복리.\n",
    "n 을 무한대로 보내면(짧은 시간별로 이자를 붙여서 복리로 계산하면) e 가 나온다.\n",
    "exp 함수는 e**매개변수 반환한다."
   ]
  },
  {
   "cell_type": "code",
   "execution_count": 5,
   "id": "3349ebca-af89-4679-aba7-566902fbbd02",
   "metadata": {},
   "outputs": [
    {
     "name": "stdout",
     "output_type": "stream",
     "text": [
      "2.302585092994046\n",
      "The history saving thread hit an unexpected error (OperationalError('attempt to write a readonly database')).History will not be written to the database.\n"
     ]
    }
   ],
   "source": [
    "x=log(10)\n",
    "print(x)"
   ]
  },
  {
   "cell_type": "code",
   "execution_count": 6,
   "id": "f9f6897c-a75f-4e32-b561-35952a49a983",
   "metadata": {},
   "outputs": [
    {
     "name": "stdout",
     "output_type": "stream",
     "text": [
      "History DB 경로: /Users/Taery/.ipython/profile_default/history.sqlite\n"
     ]
    }
   ],
   "source": [
    "from IPython import get_ipython\n",
    "\n",
    "hist_path = get_ipython().history_manager.hist_file\n",
    "print(\"History DB 경로:\", hist_path)"
   ]
  },
  {
   "cell_type": "code",
   "execution_count": 1,
   "id": "0562850f-2a4e-4964-8068-c0b63b4ce20f",
   "metadata": {},
   "outputs": [
    {
     "name": "stdout",
     "output_type": "stream",
     "text": [
      "0\n"
     ]
    }
   ],
   "source": [
    "from sympy import *\n",
    "x=symbols('x')\n",
    "f=1/x\n",
    "result=limit(f,x,oo)\n",
    "print(result)"
   ]
  },
  {
   "cell_type": "code",
   "execution_count": 1,
   "id": "6180a804-77ba-4677-9fbd-b02fc0cb20c6",
   "metadata": {},
   "outputs": [
    {
     "name": "stdout",
     "output_type": "stream",
     "text": [
      "/Library/Frameworks/Python.framework/Versions/3.9/bin/python3\n"
     ]
    }
   ],
   "source": [
    "import sys\n",
    "print(sys.executable)"
   ]
  },
  {
   "cell_type": "code",
   "execution_count": 3,
   "id": "018443e6-cbaf-44e6-95ca-ab062fb0efe7",
   "metadata": {},
   "outputs": [
    {
     "name": "stdout",
     "output_type": "stream",
     "text": [
      "E\n"
     ]
    }
   ],
   "source": [
    "n=symbols('n')\n",
    "f=(1+(1/n))**n\n",
    "result=limit(f,n,oo)\n",
    "print(result)"
   ]
  },
  {
   "cell_type": "code",
   "execution_count": 5,
   "id": "8109e345-4e8f-4011-a1b2-8add065a41f6",
   "metadata": {},
   "outputs": [
    {
     "name": "stdout",
     "output_type": "stream",
     "text": [
      "2.71828182845905\n"
     ]
    }
   ],
   "source": [
    "print(result.evalf())"
   ]
  },
  {
   "cell_type": "code",
   "execution_count": 26,
   "id": "d822a1ad-ece2-4f4b-9408-f1ca7cfd47ef",
   "metadata": {},
   "outputs": [
    {
     "name": "stdout",
     "output_type": "stream",
     "text": [
      "6.00000999991201\n"
     ]
    }
   ],
   "source": [
    "def derivative_x(f,x,step_size):\n",
    "    m=(f(x+step_size)-f(x))/((x+step_size)-x)\n",
    "    return m\n",
    "def folmula(x):\n",
    "    return x**2\n",
    "\n",
    "slope_at3=derivative_x(folmula,3,0.00001)\n",
    "print(slope_at3)#3에서 미분 근사\n",
    "    "
   ]
  },
  {
   "cell_type": "code",
   "execution_count": 28,
   "id": "9e2dab9a-9b91-400b-ab11-20ecd45c7c6e",
   "metadata": {},
   "outputs": [
    {
     "name": "stdout",
     "output_type": "stream",
     "text": [
      "2*x\n"
     ]
    }
   ],
   "source": [
    "f=x**2\n",
    "dx_f=diff(f)\n",
    "print(dx_f)"
   ]
  },
  {
   "cell_type": "code",
   "execution_count": 30,
   "id": "1db8f758-c44e-4fed-89eb-1a09412be525",
   "metadata": {},
   "outputs": [
    {
     "name": "stdout",
     "output_type": "stream",
     "text": [
      "4\n"
     ]
    }
   ],
   "source": [
    "print(dx_f.subs(x,2))"
   ]
  },
  {
   "cell_type": "code",
   "execution_count": null,
   "id": "1b594a25-941d-42e2-a475-e5bc5ff67a80",
   "metadata": {},
   "outputs": [],
   "source": []
  }
 ],
 "metadata": {
  "kernelspec": {
   "display_name": "Python [conda env:base] *",
   "language": "python",
   "name": "conda-base-py"
  },
  "language_info": {
   "codemirror_mode": {
    "name": "ipython",
    "version": 3
   },
   "file_extension": ".py",
   "mimetype": "text/x-python",
   "name": "python",
   "nbconvert_exporter": "python",
   "pygments_lexer": "ipython3",
   "version": "3.12.7"
  }
 },
 "nbformat": 4,
 "nbformat_minor": 5
}
