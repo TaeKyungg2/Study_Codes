{
 "cells": [
  {
   "cell_type": "code",
   "execution_count": null,
   "metadata": {
    "_cell_guid": "b1076dfc-b9ad-4769-8c92-a6c4dae69d19",
    "_uuid": "8f2839f25d086af736a60e9eeb907d3b93b6e0e5",
    "execution": {
     "iopub.execute_input": "2025-06-26T08:00:47.261473Z",
     "iopub.status.busy": "2025-06-26T08:00:47.261164Z",
     "iopub.status.idle": "2025-06-26T08:00:50.052356Z",
     "shell.execute_reply": "2025-06-26T08:00:50.051157Z",
     "shell.execute_reply.started": "2025-06-26T08:00:47.261444Z"
    },
    "trusted": true
   },
   "outputs": [],
   "source": [
    "# This Python 3 environment comes with many helpful analytics libraries installed\n",
    "# It is defined by the kaggle/python Docker image: https://github.com/kaggle/docker-python\n",
    "# For example, here's several helpful packages to load\n",
    "\n",
    "import numpy as np # linear algebra\n",
    "import pandas as pd # data processing, CSV file I/O (e.g. pd.read_csv)\n",
    "\n",
    "# Input data files are available in the read-only \"../input/\" directory\n",
    "# For example, running this (by clicking run or pressing Shift+Enter) will list all files under the input directory\n",
    "\n",
    "import os\n",
    "for dirname, _, filenames in os.walk('/kaggle/input'):\n",
    "    for filename in filenames:\n",
    "        print(os.path.join(dirname, filename))\n",
    "\n",
    "# You can write up to 20GB to the current directory (/kaggle/working/) that gets preserved as output when you create a version using \"Save & Run All\" \n",
    "# You can also write temporary files to /kaggle/temp/, but they won't be saved outside of the current session"
   ]
  },
  {
   "cell_type": "code",
   "execution_count": 1,
   "metadata": {
    "execution": {
     "iopub.execute_input": "2025-06-26T08:15:46.126356Z",
     "iopub.status.busy": "2025-06-26T08:15:46.125638Z",
     "iopub.status.idle": "2025-06-26T08:15:47.078849Z",
     "shell.execute_reply": "2025-06-26T08:15:47.077870Z",
     "shell.execute_reply.started": "2025-06-26T08:15:46.126323Z"
    },
    "trusted": true
   },
   "outputs": [
    {
     "name": "stdout",
     "output_type": "stream",
     "text": [
      "<class 'pandas.core.frame.DataFrame'>\n",
      "RangeIndex: 750000 entries, 0 to 749999\n",
      "Data columns (total 10 columns):\n",
      " #   Column           Non-Null Count   Dtype \n",
      "---  ------           --------------   ----- \n",
      " 0   id               750000 non-null  int64 \n",
      " 1   Temparature      750000 non-null  int64 \n",
      " 2   Humidity         750000 non-null  int64 \n",
      " 3   Moisture         750000 non-null  int64 \n",
      " 4   Soil Type        750000 non-null  object\n",
      " 5   Crop Type        750000 non-null  object\n",
      " 6   Nitrogen         750000 non-null  int64 \n",
      " 7   Potassium        750000 non-null  int64 \n",
      " 8   Phosphorous      750000 non-null  int64 \n",
      " 9   Fertilizer Name  750000 non-null  object\n",
      "dtypes: int64(7), object(3)\n",
      "memory usage: 57.2+ MB\n",
      "<class 'pandas.core.frame.DataFrame'>\n",
      "RangeIndex: 250000 entries, 0 to 249999\n",
      "Data columns (total 9 columns):\n",
      " #   Column       Non-Null Count   Dtype \n",
      "---  ------       --------------   ----- \n",
      " 0   id           250000 non-null  int64 \n",
      " 1   Temparature  250000 non-null  int64 \n",
      " 2   Humidity     250000 non-null  int64 \n",
      " 3   Moisture     250000 non-null  int64 \n",
      " 4   Soil Type    250000 non-null  object\n",
      " 5   Crop Type    250000 non-null  object\n",
      " 6   Nitrogen     250000 non-null  int64 \n",
      " 7   Potassium    250000 non-null  int64 \n",
      " 8   Phosphorous  250000 non-null  int64 \n",
      "dtypes: int64(7), object(2)\n",
      "memory usage: 17.2+ MB\n",
      "<class 'pandas.core.frame.DataFrame'>\n",
      "RangeIndex: 250000 entries, 0 to 249999\n",
      "Data columns (total 2 columns):\n",
      " #   Column           Non-Null Count   Dtype \n",
      "---  ------           --------------   ----- \n",
      " 0   id               250000 non-null  int64 \n",
      " 1   Fertilizer Name  250000 non-null  object\n",
      "dtypes: int64(1), object(1)\n",
      "memory usage: 3.8+ MB\n"
     ]
    }
   ],
   "source": [
    "import pandas as pd\n",
    "\n",
    "train=pd.read_csv('/Users/Taery/Study_codes/playground-series-s5e6/train.csv')\n",
    "test=pd.read_csv('/Users/Taery/Study_codes/playground-series-s5e6/test.csv')\n",
    "s_submiss=pd.read_csv('/Users/Taery/Study_codes/playground-series-s5e6/sample_submission.csv')\n",
    "\n",
    "train.head()\n",
    "test.head()\n",
    "s_submiss.head()\n",
    "\n",
    "train.info()\n",
    "test.info()\n",
    "s_submiss.info()"
   ]
  },
  {
   "cell_type": "code",
   "execution_count": null,
   "metadata": {
    "execution": {
     "iopub.execute_input": "2025-06-26T08:17:15.940641Z",
     "iopub.status.busy": "2025-06-26T08:17:15.940326Z",
     "iopub.status.idle": "2025-06-26T08:17:15.949595Z",
     "shell.execute_reply": "2025-06-26T08:17:15.948486Z",
     "shell.execute_reply.started": "2025-06-26T08:17:15.940620Z"
    },
    "trusted": true
   },
   "outputs": [],
   "source": [
    "print(train.head())\n",
    "print(train.shape)"
   ]
  },
  {
   "cell_type": "code",
   "execution_count": null,
   "metadata": {
    "execution": {
     "iopub.execute_input": "2025-06-26T08:17:46.146207Z",
     "iopub.status.busy": "2025-06-26T08:17:46.145874Z",
     "iopub.status.idle": "2025-06-26T08:17:46.153430Z",
     "shell.execute_reply": "2025-06-26T08:17:46.152342Z",
     "shell.execute_reply.started": "2025-06-26T08:17:46.146183Z"
    },
    "trusted": true
   },
   "outputs": [],
   "source": [
    "print(s_submiss.head())\n",
    "print(s_submiss.shape)"
   ]
  },
  {
   "cell_type": "code",
   "execution_count": null,
   "metadata": {
    "execution": {
     "iopub.execute_input": "2025-06-26T08:30:53.366388Z",
     "iopub.status.busy": "2025-06-26T08:30:53.366086Z",
     "iopub.status.idle": "2025-06-26T08:30:53.443132Z",
     "shell.execute_reply": "2025-06-26T08:30:53.441967Z",
     "shell.execute_reply.started": "2025-06-26T08:30:53.366367Z"
    },
    "trusted": true
   },
   "outputs": [],
   "source": [
    "print(train[train['Fertilizer Name']=='DAP'])"
   ]
  },
  {
   "cell_type": "code",
   "execution_count": null,
   "metadata": {
    "execution": {
     "iopub.execute_input": "2025-06-26T08:54:07.291943Z",
     "iopub.status.busy": "2025-06-26T08:54:07.291602Z"
    },
    "trusted": true
   },
   "outputs": [],
   "source": [
    "Fer_DAP=train[train['Fertilizer Name']=='DAP']\n",
    "Fer_noDAP=train[train['Fertilizer Name']!='DAP']\n",
    "print(Fer_DAP.mean())\n",
    "print(Fer_noDAP.mean())"
   ]
  },
  {
   "cell_type": "code",
   "execution_count": null,
   "metadata": {
    "trusted": true
   },
   "outputs": [],
   "source": [
    "print(train.dtypes)"
   ]
  },
  {
   "cell_type": "code",
   "execution_count": null,
   "metadata": {
    "trusted": true
   },
   "outputs": [],
   "source": []
  }
 ],
 "metadata": {
  "kaggle": {
   "accelerator": "none",
   "dataSources": [
    {
     "databundleVersionId": 12184666,
     "sourceId": 91717,
     "sourceType": "competition"
    }
   ],
   "dockerImageVersionId": 31040,
   "isGpuEnabled": false,
   "isInternetEnabled": true,
   "language": "python",
   "sourceType": "notebook"
  },
  "kernelspec": {
   "display_name": "base",
   "language": "python",
   "name": "python3"
  },
  "language_info": {
   "codemirror_mode": {
    "name": "ipython",
    "version": 3
   },
   "file_extension": ".py",
   "mimetype": "text/x-python",
   "name": "python",
   "nbconvert_exporter": "python",
   "pygments_lexer": "ipython3",
   "version": "3.12.7"
  }
 },
 "nbformat": 4,
 "nbformat_minor": 4
}
