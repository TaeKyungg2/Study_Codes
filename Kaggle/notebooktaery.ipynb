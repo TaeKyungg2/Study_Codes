{
 "cells": [
  {
   "cell_type": "code",
   "execution_count": null,
   "metadata": {
    "_cell_guid": "b1076dfc-b9ad-4769-8c92-a6c4dae69d19",
    "_uuid": "8f2839f25d086af736a60e9eeb907d3b93b6e0e5",
    "execution": {
     "iopub.execute_input": "2025-06-17T07:05:25.389658Z",
     "iopub.status.busy": "2025-06-17T07:05:25.389350Z",
     "iopub.status.idle": "2025-06-17T07:05:27.711338Z",
     "shell.execute_reply": "2025-06-17T07:05:27.710299Z",
     "shell.execute_reply.started": "2025-06-17T07:05:25.389630Z"
    },
    "trusted": true
   },
   "outputs": [],
   "source": [
    "# This Python 3 environment comes with many helpful analytics libraries installed\n",
    "# It is defined by the kaggle/python Docker image: https://github.com/kaggle/docker-python\n",
    "# For example, here's several helpful packages to load\n",
    "\n",
    "import numpy as np # linear algebra\n",
    "import pandas as pd # data processing, CSV file I/O (e.g. pd.read_csv)\n",
    "\n",
    "# Input data files are available in the read-only \"../input/\" directory\n",
    "# For example, running this (by clicking run or pressing Shift+Enter) will list all files under the input directory\n",
    "\n",
    "import os\n",
    "for dirname, _, filenames in os.walk('/kaggle/input'):\n",
    "    for filename in filenames:\n",
    "        print(os.path.join(dirname, filename))\n",
    "\n",
    "# You can write up to 20GB to the current directory (/kaggle/working/) that gets preserved as output when you create a version using \"Save & Run All\" \n",
    "# You can also write temporary files to /kaggle/temp/, but they won't be saved outside of the current session"
   ]
  },
  {
   "cell_type": "code",
   "execution_count": null,
   "metadata": {
    "execution": {
     "iopub.execute_input": "2025-06-17T07:14:27.274051Z",
     "iopub.status.busy": "2025-06-17T07:14:27.273746Z",
     "iopub.status.idle": "2025-06-17T07:14:45.865104Z",
     "shell.execute_reply": "2025-06-17T07:14:45.864187Z",
     "shell.execute_reply.started": "2025-06-17T07:14:27.274006Z"
    },
    "trusted": true
   },
   "outputs": [],
   "source": [
    "import pandas as pd\n",
    "import numpy as np\n",
    "import matplotlib.pyplot as plt\n",
    "import seaborn as sns\n",
    "import datetime\n",
    "\n",
    "train=pd.read_csv(\"/kaggle/input/instant-gratification/train.csv\")\n",
    "test=pd.read_csv(\"/kaggle/input/instant-gratification/test.csv\")\n",
    "submission=pd.read_csv(\"/kaggle/input/instant-gratification/sample_submission.csv\")\n"
   ]
  },
  {
   "cell_type": "code",
   "execution_count": null,
   "metadata": {
    "execution": {
     "iopub.execute_input": "2025-06-17T07:14:06.528576Z",
     "iopub.status.busy": "2025-06-17T07:14:06.528261Z",
     "iopub.status.idle": "2025-06-17T07:14:06.533765Z",
     "shell.execute_reply": "2025-06-17T07:14:06.532689Z",
     "shell.execute_reply.started": "2025-06-17T07:14:06.528551Z"
    },
    "trusted": true
   },
   "outputs": [],
   "source": [
    "print(test.shape)"
   ]
  },
  {
   "cell_type": "code",
   "execution_count": null,
   "metadata": {
    "execution": {
     "iopub.execute_input": "2025-06-17T07:54:10.945081Z",
     "iopub.status.busy": "2025-06-17T07:54:10.944768Z",
     "iopub.status.idle": "2025-06-17T07:54:10.952127Z",
     "shell.execute_reply": "2025-06-17T07:54:10.950885Z",
     "shell.execute_reply.started": "2025-06-17T07:54:10.945051Z"
    },
    "trusted": true
   },
   "outputs": [],
   "source": [
    "print(train[\"target\"].value_counts())"
   ]
  },
  {
   "cell_type": "markdown",
   "metadata": {
    "execution": {
     "iopub.execute_input": "2025-06-17T07:59:41.740129Z",
     "iopub.status.busy": "2025-06-17T07:59:41.739776Z",
     "iopub.status.idle": "2025-06-17T07:59:41.949742Z",
     "shell.execute_reply": "2025-06-17T07:59:41.948885Z",
     "shell.execute_reply.started": "2025-06-17T07:59:41.740106Z"
    }
   },
   "source": [
    "train[\"target\"].cumsum().plot(color='green',linestyle='-')"
   ]
  },
  {
   "cell_type": "code",
   "execution_count": null,
   "metadata": {
    "execution": {
     "iopub.execute_input": "2025-06-17T08:01:20.738473Z",
     "iopub.status.busy": "2025-06-17T08:01:20.738183Z",
     "iopub.status.idle": "2025-06-17T08:01:21.363759Z",
     "shell.execute_reply": "2025-06-17T08:01:21.362690Z",
     "shell.execute_reply.started": "2025-06-17T08:01:20.738454Z"
    },
    "trusted": true
   },
   "outputs": [],
   "source": [
    "train[\"target\"].cumsum().plot(color='green',linestyle='--',marker='x')"
   ]
  },
  {
   "cell_type": "code",
   "execution_count": null,
   "metadata": {
    "execution": {
     "iopub.execute_input": "2025-06-17T08:05:10.471655Z",
     "iopub.status.busy": "2025-06-17T08:05:10.471314Z",
     "iopub.status.idle": "2025-06-17T08:05:10.495971Z",
     "shell.execute_reply": "2025-06-17T08:05:10.495019Z",
     "shell.execute_reply.started": "2025-06-17T08:05:10.471627Z"
    },
    "trusted": true
   },
   "outputs": [],
   "source": [
    "train.select_dtypes(include=[\"object\",\"int64\"]).head()"
   ]
  },
  {
   "cell_type": "code",
   "execution_count": null,
   "metadata": {
    "trusted": true
   },
   "outputs": [],
   "source": []
  },
  {
   "cell_type": "code",
   "execution_count": null,
   "metadata": {},
   "outputs": [],
   "source": []
  }
 ],
 "metadata": {
  "kaggle": {
   "accelerator": "none",
   "dataSources": [
    {
     "databundleVersionId": 448708,
     "sourceId": 14239,
     "sourceType": "competition"
    }
   ],
   "dockerImageVersionId": 31040,
   "isGpuEnabled": false,
   "isInternetEnabled": true,
   "language": "python",
   "sourceType": "notebook"
  },
  "kernelspec": {
   "display_name": "Python 3",
   "language": "python",
   "name": "python3"
  },
  "language_info": {
   "codemirror_mode": {
    "name": "ipython",
    "version": 3
   },
   "file_extension": ".py",
   "mimetype": "text/x-python",
   "name": "python",
   "nbconvert_exporter": "python",
   "pygments_lexer": "ipython3",
   "version": "3.11.11"
  }
 },
 "nbformat": 4,
 "nbformat_minor": 4
}
