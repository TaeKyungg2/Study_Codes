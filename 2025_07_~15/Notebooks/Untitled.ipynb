{
 "cells": [
  {
   "cell_type": "code",
   "execution_count": 2,
   "id": "9ddd5c0c-5e37-4c4b-8a3c-9e9a6d0c868c",
   "metadata": {},
   "outputs": [
    {
     "name": "stdout",
     "output_type": "stream",
     "text": [
      "Requirement already satisfied: ursina in c:\\users\\user\\anaconda3\\envs\\taeryenv\\lib\\site-packages (8.0.1)\n",
      "Requirement already satisfied: panda3d>=1.10.15 in c:\\users\\user\\anaconda3\\envs\\taeryenv\\lib\\site-packages (from ursina) (1.10.15)\n",
      "Requirement already satisfied: panda3d-gltf>=1.3.0 in c:\\users\\user\\anaconda3\\envs\\taeryenv\\lib\\site-packages (from ursina) (1.3.0)\n",
      "Requirement already satisfied: pillow>=10.0.0 in c:\\users\\user\\anaconda3\\envs\\taeryenv\\lib\\site-packages (from ursina) (11.1.0)\n",
      "Requirement already satisfied: pyperclip>=1.9.0 in c:\\users\\user\\anaconda3\\envs\\taeryenv\\lib\\site-packages (from ursina) (1.9.0)\n",
      "Requirement already satisfied: screeninfo>=0.8.1 in c:\\users\\user\\anaconda3\\envs\\taeryenv\\lib\\site-packages (from ursina) (0.8.1)\n",
      "Requirement already satisfied: sswg==4.3.0 in c:\\users\\user\\anaconda3\\envs\\taeryenv\\lib\\site-packages (from ursina) (4.3.0)\n",
      "Requirement already satisfied: panda3d-simplepbr>=0.6 in c:\\users\\user\\anaconda3\\envs\\taeryenv\\lib\\site-packages (from panda3d-gltf>=1.3.0->ursina) (0.13.1)\n",
      "Requirement already satisfied: typing_extensions~=4.7 in c:\\users\\user\\anaconda3\\envs\\taeryenv\\lib\\site-packages (from panda3d-simplepbr>=0.6->panda3d-gltf>=1.3.0->ursina) (4.14.1)\n",
      "Note: you may need to restart the kernel to use updated packages.\n"
     ]
    }
   ],
   "source": []
  },
  {
   "cell_type": "code",
   "execution_count": null,
   "id": "13351d1d-412b-4754-a56e-e64a65586955",
   "metadata": {},
   "outputs": [],
   "source": []
  }
 ],
 "metadata": {
  "kernelspec": {
   "display_name": "Python [conda env:TaeryEnv]",
   "language": "python",
   "name": "conda-env-TaeryEnv-py"
  },
  "language_info": {
   "codemirror_mode": {
    "name": "ipython",
    "version": 3
   },
   "file_extension": ".py",
   "mimetype": "text/x-python",
   "name": "python",
   "nbconvert_exporter": "python",
   "pygments_lexer": "ipython3",
   "version": "3.13.5"
  }
 },
 "nbformat": 4,
 "nbformat_minor": 5
}
