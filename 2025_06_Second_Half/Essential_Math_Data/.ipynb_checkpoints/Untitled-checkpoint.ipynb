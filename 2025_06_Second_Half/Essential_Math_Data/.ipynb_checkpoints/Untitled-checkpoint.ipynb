{
 "cells": [
  {
   "cell_type": "code",
   "execution_count": 4,
   "id": "a874410b",
   "metadata": {},
   "outputs": [
    {
     "name": "stdout",
     "output_type": "stream",
     "text": [
      "[1 2 3 4 5 6]\n"
     ]
    }
   ],
   "source": [
    "import numpy as np\n",
    "v=np.array([1,2,3,4,5,6])\n",
    "print(v)"
   ]
  },
  {
   "cell_type": "code",
   "execution_count": 5,
   "id": "f0638b02",
   "metadata": {},
   "outputs": [
    {
     "name": "stdout",
     "output_type": "stream",
     "text": [
      "[4 6]\n"
     ]
    }
   ],
   "source": [
    "from numpy import array #plus vector\n",
    "v=array([3,2])\n",
    "w=array([1,4])\n",
    "print(v+w)"
   ]
  },
  {
   "cell_type": "code",
   "execution_count": 6,
   "id": "f5798711",
   "metadata": {},
   "outputs": [
    {
     "name": "stdout",
     "output_type": "stream",
     "text": [
      "[9 3]\n"
     ]
    }
   ],
   "source": [
    "v=array([3,1]) #scalar multiplication\n",
    "print(3*v)"
   ]
  },
  {
   "cell_type": "code",
   "execution_count": 20,
   "id": "0dcecfd6",
   "metadata": {},
   "outputs": [
    {
     "name": "stdout",
     "output_type": "stream",
     "text": [
      "[[4 1]\n",
      " [0 2]]\n",
      "[[4 0]\n",
      " [1 2]]\n"
     ]
    }
   ],
   "source": [
    "from numpy import array\n",
    "basis=array([[4,1],[0,2]])\n",
    "v=array([1,1])\n",
    "basis2=basis.transpose()\n",
    "print(basis)\n",
    "print(basis2)"
   ]
  },
  {
   "cell_type": "code",
   "execution_count": 26,
   "id": "a49f8588",
   "metadata": {},
   "outputs": [
    {
     "name": "stdout",
     "output_type": "stream",
     "text": [
      "[4 5]\n",
      "[5 3]\n"
     ]
    }
   ],
   "source": [
    "from numpy import array\n",
    "iHat=array([2,0]) #x of v is duplicate of iHat.\n",
    "jHat=array([1,3]) #y of v is duplicate of jHat. and iHat+jHat is v.\n",
    "v=array([2,1])\n",
    "newV2=array([iHat,jHat]).dot(v)\n",
    "print(newV2)\n",
    "\n",
    "basis=array([iHat,jHat]).transpose()\n",
    "newV=basis.dot(v)\n",
    "print(newV)"
   ]
  },
  {
   "cell_type": "code",
   "execution_count": 30,
   "id": "3b3deb4f",
   "metadata": {},
   "outputs": [
    {
     "name": "stdout",
     "output_type": "stream",
     "text": [
      "[5 4]\n"
     ]
    }
   ],
   "source": [
    "newC=array([jHat,iHat]) #change iHat and jHat, and dot, different value.\n",
    "print(newC.dot(v))"
   ]
  },
  {
   "cell_type": "code",
   "execution_count": 1,
   "id": "9df33bfa",
   "metadata": {},
   "outputs": [
    {
     "name": "stdout",
     "output_type": "stream",
     "text": [
      "[0 1]\n"
     ]
    }
   ],
   "source": [
    "from numpy import array as arr\n",
    "iHat1=arr([0,1])\n",
    "jHat1=arr([-1,0])\n",
    "trans1=arr([iHat1,jHat1]).transpose()\n",
    "\n",
    "\n",
    "print(iHat1)"
   ]
  },
  {
   "cell_type": "code",
   "execution_count": null,
   "id": "5d37ab5f-6087-4bf5-9562-7d9aed8ddfb8",
   "metadata": {},
   "outputs": [],
   "source": []
  }
 ],
 "metadata": {
  "kernelspec": {
   "display_name": "Python [conda env:base] *",
   "language": "python",
   "name": "conda-base-py"
  },
  "language_info": {
   "codemirror_mode": {
    "name": "ipython",
    "version": 3
   },
   "file_extension": ".py",
   "mimetype": "text/x-python",
   "name": "python",
   "nbconvert_exporter": "python",
   "pygments_lexer": "ipython3",
   "version": "3.12.7"
  }
 },
 "nbformat": 4,
 "nbformat_minor": 5
}
