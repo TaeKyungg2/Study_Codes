{
 "cells": [
  {
   "cell_type": "code",
   "execution_count": 1,
   "id": "a874410b",
   "metadata": {},
   "outputs": [
    {
     "name": "stdout",
     "output_type": "stream",
     "text": [
      "[1 2 3 4 5 6]\n"
     ]
    }
   ],
   "source": [
    "import numpy as np\n",
    "v=np.array([1,2,3,4,5,6])\n",
    "print(v)"
   ]
  },
  {
   "cell_type": "code",
   "execution_count": 2,
   "id": "f0638b02",
   "metadata": {},
   "outputs": [
    {
     "name": "stdout",
     "output_type": "stream",
     "text": [
      "[4 6]\n"
     ]
    }
   ],
   "source": [
    "from numpy import array #plus vector\n",
    "v=array([3,2])\n",
    "w=array([1,4])\n",
    "print(v+w)"
   ]
  },
  {
   "cell_type": "code",
   "execution_count": 3,
   "id": "f5798711",
   "metadata": {},
   "outputs": [
    {
     "name": "stdout",
     "output_type": "stream",
     "text": [
      "[9 3]\n"
     ]
    }
   ],
   "source": [
    "v=array([3,1]) #scalar multiplication\n",
    "print(3*v)"
   ]
  },
  {
   "cell_type": "code",
   "execution_count": 4,
   "id": "0dcecfd6",
   "metadata": {},
   "outputs": [
    {
     "name": "stdout",
     "output_type": "stream",
     "text": [
      "[[4 1]\n",
      " [0 2]]\n",
      "[[4 0]\n",
      " [1 2]]\n"
     ]
    }
   ],
   "source": [
    "from numpy import array\n",
    "basis=array([[4,1],[0,2]])\n",
    "v=array([1,1])\n",
    "basis2=basis.transpose()\n",
    "print(basis)\n",
    "print(basis2)"
   ]
  },
  {
   "cell_type": "code",
   "execution_count": 5,
   "id": "a49f8588",
   "metadata": {},
   "outputs": [
    {
     "name": "stdout",
     "output_type": "stream",
     "text": [
      "[4 5]\n",
      "[5 3]\n"
     ]
    }
   ],
   "source": [
    "from numpy import array\n",
    "iHat=array([2,0]) #x of v is duplicate of iHat.\n",
    "jHat=array([1,3]) #y of v is duplicate of jHat. and iHat+jHat is v.\n",
    "v=array([2,1])\n",
    "newV2=array([iHat,jHat]).dot(v)\n",
    "print(newV2)\n",
    "\n",
    "basis=array([iHat,jHat]).transpose()\n",
    "newV=basis.dot(v)\n",
    "print(newV)"
   ]
  },
  {
   "cell_type": "code",
   "execution_count": 6,
   "id": "3b3deb4f",
   "metadata": {},
   "outputs": [
    {
     "name": "stdout",
     "output_type": "stream",
     "text": [
      "[5 4]\n"
     ]
    }
   ],
   "source": [
    "newC=array([jHat,iHat]) #change iHat and jHat, and dot, different value.\n",
    "print(newC.dot(v))"
   ]
  },
  {
   "cell_type": "code",
   "execution_count": 9,
   "id": "9df33bfa",
   "metadata": {},
   "outputs": [
    {
     "name": "stdout",
     "output_type": "stream",
     "text": [
      "[[ 0 -1]\n",
      " [ 1  1]]\n"
     ]
    }
   ],
   "source": [
    "from numpy import array as arr\n",
    "iHat1=arr([0,1])\n",
    "jHat1=arr([-1,0])\n",
    "trans1=arr([iHat1,jHat1]).transpose()\n",
    "\n",
    "iHat2=arr([1,0])\n",
    "jHat2=arr([1,1])\n",
    "trans2=arr([iHat2,jHat2]).transpose()\n",
    "\n",
    "combined=trans1@trans2\n",
    "print(combined)"
   ]
  },
  {
   "cell_type": "code",
   "execution_count": 8,
   "id": "5d37ab5f-6087-4bf5-9562-7d9aed8ddfb8",
   "metadata": {},
   "outputs": [
    {
     "name": "stdout",
     "output_type": "stream",
     "text": [
      "[-2  3]\n"
     ]
    }
   ],
   "source": [
    "v=arr([1,2])\n",
    "print(combined.dot(v))"
   ]
  },
  {
   "cell_type": "code",
   "execution_count": 11,
   "id": "479ac5ea",
   "metadata": {},
   "outputs": [
    {
     "name": "stdout",
     "output_type": "stream",
     "text": [
      "Matrix([[1, 0, 0], [0, 1, 0], [0, 0, 1]])\n",
      "Matrix([[-1/2, 0, 1/3], [11/2, -2, -4/3], [-2, 1, 1/3]])\n",
      "Matrix([[1/2], [-5/2], [1]])\n"
     ]
    }
   ],
   "source": [
    "from sympy import *\n",
    "A=Matrix([[4,2,4], #4x+2y+4z=1\n",
    "        [5,3,7], #5x+3y+7z=2\n",
    "        [9,3,6]]) #9x+3y+6z=3\n",
    "inverse=A.inv()\n",
    "identity=A*inverse\n",
    "print(identity)\n",
    "print(inverse)\n",
    "print(inverse*Matrix([1,2,3])) #result is answer of x,y,z.\n",
    "#wow"
   ]
  },
  {
   "cell_type": "code",
   "execution_count": 14,
   "id": "3a69cb84",
   "metadata": {},
   "outputs": [
    {
     "name": "stdout",
     "output_type": "stream",
     "text": [
      "[[4 2 4]\n",
      " [5 3 7]\n",
      " [9 3 6]]\n",
      "[[-5.00000000e-01  9.86864911e-17  3.33333333e-01]\n",
      " [ 5.50000000e+00 -2.00000000e+00 -1.33333333e+00]\n",
      " [-2.00000000e+00  1.00000000e+00  3.33333333e-01]]\n",
      "[ 0.5 -2.5  1. ]\n"
     ]
    }
   ],
   "source": [
    "from numpy import array as arr\n",
    "from numpy.linalg import inv\n",
    "A=arr([[4,2,4], #4x+2y+4z=1\n",
    "        [5,3,7], #5x+3y+7z=2\n",
    "        [9,3,6]]) #9x+3y+6z=3\n",
    "print(A)\n",
    "print(inv(A))\n",
    "print(inv(A)@arr([1,2,3])) #result is answer of x,y,z.\n",
    "#wow"
   ]
  },
  {
   "cell_type": "code",
   "execution_count": 18,
   "id": "1bed7a40",
   "metadata": {},
   "outputs": [
    {
     "name": "stdout",
     "output_type": "stream",
     "text": [
      "eigenvals :  [-0.46410162  6.46410162]\n",
      "eigenvecs :  [[-0.80689822 -0.34372377]\n",
      " [ 0.59069049 -0.9390708 ]]\n",
      "reconstructed :  [[1. 2.]\n",
      " [4. 5.]]\n"
     ]
    }
   ],
   "source": [
    "from numpy import array,diag\n",
    "from numpy.linalg import eig,inv\n",
    "A=array([[1,2],\n",
    "        [4,5]])\n",
    "eigenvals,eigenvecs=eig(A)\n",
    "print('eigenvals : ',eigenvals)\n",
    "print('eigenvecs : ',eigenvecs)\n",
    "\n",
    "Q=eigenvecs\n",
    "R=inv(Q)\n",
    "\n",
    "L=diag(eigenvals)\n",
    "B=Q@L@R\n",
    "print('reconstructed : ',B)\n"
   ]
  },
  {
   "cell_type": "code",
   "execution_count": null,
   "id": "3a9ec3bc",
   "metadata": {},
   "outputs": [],
   "source": []
  }
 ],
 "metadata": {
  "kernelspec": {
   "display_name": "base",
   "language": "python",
   "name": "python3"
  },
  "language_info": {
   "codemirror_mode": {
    "name": "ipython",
    "version": 3
   },
   "file_extension": ".py",
   "mimetype": "text/x-python",
   "name": "python",
   "nbconvert_exporter": "python",
   "pygments_lexer": "ipython3",
   "version": "3.12.7"
  }
 },
 "nbformat": 4,
 "nbformat_minor": 5
}
